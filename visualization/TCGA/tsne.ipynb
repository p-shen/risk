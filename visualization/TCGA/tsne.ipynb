{
 "cells": [
  {
   "cell_type": "code",
   "execution_count": 117,
   "metadata": {},
   "outputs": [],
   "source": [
    "import numpy as np\n",
    "import pandas as pd"
   ]
  },
  {
   "cell_type": "code",
   "execution_count": 118,
   "metadata": {},
   "outputs": [],
   "source": [
    "data = pd.read_csv(\"genetech.batch_norm_genes.tsv\", sep=\"\\t\")"
   ]
  },
  {
   "cell_type": "code",
   "execution_count": 119,
   "metadata": {},
   "outputs": [],
   "source": [
    "from keras.models import load_model\n",
    "from keras import backend as K\n",
    "import tensorflow as tf\n",
    "\n",
    "def negative_log_partial_likelihood(censor, risk):\n",
    "    \"\"\"Return the negative log-partial likelihood of the prediction\n",
    "    y_true contains the survival time\n",
    "    risk is the risk output from the neural network\n",
    "    censor is the vector of inputs that are censored\n",
    "    regularization is the regularization constant (not used currently in model)\n",
    "\n",
    "    Uses the Keras backend to perform calculations\n",
    "\n",
    "    Sorts the surv_time by sorted reverse time\n",
    "    \"\"\"\n",
    "\n",
    "    # calculate negative log likelihood from estimated risk\n",
    "    epsilon = 0.001\n",
    "    hazard_ratio = K.exp(risk + epsilon)\n",
    "\n",
    "    # cumsum on sorted surv time accounts for concordance\n",
    "    log_risk = K.log(tf.cumsum(hazard_ratio))\n",
    "    uncensored_likelihood = risk - log_risk\n",
    "\n",
    "    # apply censor mask: 1 - dead, 0 - censor\n",
    "    censored_likelihood = uncensored_likelihood * censor\n",
    "    num_observed_events = K.sum(censor)\n",
    "    neg_likelihood = - K.sum(censored_likelihood) / \\\n",
    "        tf.cast(num_observed_events, tf.float32)\n",
    "    return neg_likelihood\n",
    "\n",
    "surv_model = load_model(\"/Users/Peter/Documents/GitHub/risk/models/batch_norm.hdf5\", custom_objects={\n",
    "                                        'negative_log_partial_likelihood': negative_log_partial_likelihood})"
   ]
  },
  {
   "cell_type": "code",
   "execution_count": 120,
   "metadata": {},
   "outputs": [
    {
     "name": "stdout",
     "output_type": "stream",
     "text": [
      "_________________________________________________________________\n",
      "Layer (type)                 Output Shape              Param #   \n",
      "=================================================================\n",
      "dense_1 (Dense)              (None, 512)               400384    \n",
      "_________________________________________________________________\n",
      "dense_2 (Dense)              (None, 256)               131328    \n",
      "_________________________________________________________________\n",
      "dense_3 (Dense)              (None, 128)               32896     \n",
      "_________________________________________________________________\n",
      "dropout_1 (Dropout)          (None, 128)               0         \n",
      "_________________________________________________________________\n",
      "dense_4 (Dense)              (None, 1)                 129       \n",
      "=================================================================\n",
      "Total params: 564,737\n",
      "Trainable params: 564,737\n",
      "Non-trainable params: 0\n",
      "_________________________________________________________________\n"
     ]
    }
   ],
   "source": [
    "surv_model.summary()"
   ]
  },
  {
   "cell_type": "code",
   "execution_count": 121,
   "metadata": {},
   "outputs": [
    {
     "data": {
      "text/plain": [
       "0.5064460510589941"
      ]
     },
     "execution_count": 121,
     "metadata": {},
     "output_type": "execute_result"
    }
   ],
   "source": [
    "from lifelines.utils import concordance_index\n",
    "\n",
    "def concordance_metric(survival_time, predicted_risk, censor):\n",
    "    # calculate the concordance index\n",
    "    epsilon = 0.001\n",
    "    partial_hazard = np.exp(-(predicted_risk+epsilon)).flatten()\n",
    "    censor = censor.astype(int)\n",
    "    ci = concordance_index(survival_time, partial_hazard, censor)\n",
    "    return ci\n",
    "\n",
    "\n",
    "clinical = pd.read_csv(\"IMvigor210.clinical\", sep=\"\\t\")\n",
    "predictions = surv_model.predict(data)\n",
    "concordance_metric(clinical[\"OS\"], predictions, clinical['Event'])"
   ]
  },
  {
   "cell_type": "code",
   "execution_count": 36,
   "metadata": {},
   "outputs": [
    {
     "name": "stdout",
     "output_type": "stream",
     "text": [
      "_________________________________________________________________\n",
      "Layer (type)                 Output Shape              Param #   \n",
      "=================================================================\n",
      "dense_1_input (InputLayer)   (None, 781)               0         \n",
      "_________________________________________________________________\n",
      "dense_1 (Dense)              (None, 512)               400384    \n",
      "_________________________________________________________________\n",
      "dense_2 (Dense)              (None, 256)               131328    \n",
      "_________________________________________________________________\n",
      "dense_3 (Dense)              (None, 128)               32896     \n",
      "=================================================================\n",
      "Total params: 564,608\n",
      "Trainable params: 564,608\n",
      "Non-trainable params: 0\n",
      "_________________________________________________________________\n"
     ]
    }
   ],
   "source": [
    "# taking out the last 2 layers\n",
    "from keras.models import Model\n",
    "inp = surv_model.input\n",
    "output = surv_model.layers[-3].output\n",
    "model = Model(inp, output)\n",
    "model.summary()"
   ]
  },
  {
   "cell_type": "code",
   "execution_count": 91,
   "metadata": {},
   "outputs": [],
   "source": [
    "results = model.predict(data)\n",
    "idx = ~np.isnan(clinical[\"Response\"])\n",
    "# clinical = clinical.values\n",
    "clinical = clinical.loc[idx,]\n",
    "results = results[idx,]"
   ]
  },
  {
   "cell_type": "code",
   "execution_count": 111,
   "metadata": {},
   "outputs": [
    {
     "name": "stdout",
     "output_type": "stream",
     "text": [
      "[t-SNE] Computing 121 nearest neighbors...\n",
      "[t-SNE] Indexed 298 samples in 0.001s...\n",
      "[t-SNE] Computed neighbors for 298 samples in 0.038s...\n",
      "[t-SNE] Computed conditional probabilities for sample 298 / 298\n",
      "[t-SNE] Mean sigma: 88.122293\n",
      "[t-SNE] KL divergence after 250 iterations with early exaggeration: 59.689865\n",
      "[t-SNE] KL divergence after 800 iterations: 0.550497\n"
     ]
    }
   ],
   "source": [
    "import time\n",
    "\n",
    "from sklearn.manifold import TSNE\n",
    "\n",
    "tsne = TSNE(n_components=2, verbose=1, perplexity=40, n_iter=800)\n",
    "tsne_results = tsne.fit_transform(results)"
   ]
  },
  {
   "cell_type": "code",
   "execution_count": 112,
   "metadata": {},
   "outputs": [
    {
     "data": {
      "text/plain": [
       "Index(['OS', 'Event', 'Response', 'Best', 'Gender', 'PDL1', 'Mutation',\n",
       "       'Neoantigen', 'BCG', 'ECOG', 'Smoke', 'Sample', 'Platinum',\n",
       "       'Sample_Pre-Platinum', 'Tissue'],\n",
       "      dtype='object')"
      ]
     },
     "execution_count": 112,
     "metadata": {},
     "output_type": "execute_result"
    }
   ],
   "source": [
    "clinical.columns"
   ]
  },
  {
   "cell_type": "code",
   "execution_count": 114,
   "metadata": {},
   "outputs": [
    {
     "name": "stderr",
     "output_type": "stream",
     "text": [
      "No handles with labels found to put in legend.\n"
     ]
    },
    {
     "data": {
      "image/png": "[encoded data removed]",
      "text/plain": [
       "<Figure size 432x360 with 1 Axes>"
      ]
     },
     "metadata": {
      "needs_background": "light"
     },
     "output_type": "display_data"
    }
   ],
   "source": [
    "clinical_feature = clinical['Response']\n",
    "\n",
    "target_ids = range(int(min(clinical_feature)), int(max(clinical_feature))+1)\n",
    "\n",
    "from matplotlib import pyplot as plt\n",
    "plt.figure(figsize=(6, 5))\n",
    "colors = 'r', 'g', 'b', 'c', 'm', 'y', 'k', 'w', 'orange', 'purple'\n",
    "for i, c in zip(target_ids, colors):\n",
    "    plt.scatter(tsne_results[clinical_feature == i, 0], tsne_results[clinical_feature == i, 1], c=c)\n",
    "plt.legend()\n",
    "plt.show()"
   ]
  },
  {
   "cell_type": "code",
   "execution_count": 88,
   "metadata": {},
   "outputs": [],
   "source": [
    "clinical_feature = clinical['Best']\n",
    "\n",
    "target_ids = range(int(min(clinical_feature)), int(max(clinical_feature))+1)"
   ]
  },
  {
   "cell_type": "code",
   "execution_count": 89,
   "metadata": {},
   "outputs": [
    {
     "data": {
      "text/plain": [
       "[0, 1, 2, 3]"
      ]
     },
     "execution_count": 89,
     "metadata": {},
     "output_type": "execute_result"
    }
   ],
   "source": []
  },
  {
   "cell_type": "code",
   "execution_count": null,
   "metadata": {},
   "outputs": [],
   "source": []
  }
 ],
 "metadata": {
  "kernelspec": {
   "display_name": "Python 3",
   "language": "python",
   "name": "python3"
  },
  "language_info": {
   "codemirror_mode": {
    "name": "ipython",
    "version": 3
   },
   "file_extension": ".py",
   "mimetype": "text/x-python",
   "name": "python",
   "nbconvert_exporter": "python",
   "pygments_lexer": "ipython3",
   "version": "3.6.6"
  }
 },
 "nbformat": 4,
 "nbformat_minor": 2
}
