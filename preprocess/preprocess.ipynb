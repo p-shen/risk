{
 "cells": [
  {
   "cell_type": "markdown",
   "metadata": {},
   "source": [
    "# Importing Clinical Data"
   ]
  },
  {
   "cell_type": "code",
   "execution_count": 125,
   "metadata": {},
   "outputs": [],
   "source": [
    "library(dplyr)\n",
    "options(stringsAsFactors = F)"
   ]
  },
  {
   "cell_type": "code",
   "execution_count": 126,
   "metadata": {},
   "outputs": [
    {
     "name": "stderr",
     "output_type": "stream",
     "text": [
      "Warning message in eval(expr, envir, enclos):\n",
      "“NAs introduced by coercion”Warning message in eval(expr, envir, enclos):\n",
      "“NAs introduced by coercion”"
     ]
    }
   ],
   "source": [
    "setwd('/home/pzs2/capstone/proj/TCGA/')\n",
    "\n",
    "#setwd('d:/Harvard/Lab/Peter/')\n",
    "Clinicaldata=read.delim('clinical_PANCAN_patient_with_followup.tsv',stringsAsFactors = F)\n",
    "#extract ID,survive info and censor info\n",
    "Clinicaldata_sub=Clinicaldata[,c(2,5,7,8)]\n",
    "#assemble data\n",
    "Clinicaldata_sub[Clinicaldata_sub$vital_status=='Dead','vital_status']=1\n",
    "Clinicaldata_sub[Clinicaldata_sub$vital_status=='Alive','vital_status']=0\n",
    "Clinicaldata_sub$survive=NA\n",
    "Clinicaldata_sub[Clinicaldata_sub$vital_status==1,'survive']<-\n",
    "    Clinicaldata_sub[Clinicaldata_sub$vital_status==1,'days_to_death']\n",
    "Clinicaldata_sub[Clinicaldata_sub$vital_status==0,'survive']<-\n",
    "    Clinicaldata_sub[Clinicaldata_sub$vital_status==0,'days_to_last_followup']\n",
    "Clinicaldata_sub$bcr_patient_barcode=gsub(pattern = '-',replacement = '.',\n",
    "                                          Clinicaldata_sub$bcr_patient_barcode)\n",
    "Clinicaldata_sub=Clinicaldata_sub[,c(\"bcr_patient_barcode\",\"survive\",\"vital_status\")]\n",
    "Clinicaldata_sub$survive=as.numeric(Clinicaldata_sub$survive)\n",
    "Clinicaldata_sub$vital_status=as.numeric(Clinicaldata_sub$vital_status)\n"
   ]
  },
  {
   "cell_type": "markdown",
   "metadata": {},
   "source": [
    "# Genesets"
   ]
  },
  {
   "cell_type": "code",
   "execution_count": 127,
   "metadata": {},
   "outputs": [],
   "source": [
    "#read all gene markers and remove duplicates\n",
    "genefile=list.files(pattern = '^genes')\n",
    "genedata=lapply(genefile, read.table)\n",
    "GeneMarkers.all=do.call(rbind,genedata)\n",
    "GeneMarkers.all=GeneMarkers.all[!duplicated(GeneMarkers.all$V1),]"
   ]
  },
  {
   "cell_type": "code",
   "execution_count": 128,
   "metadata": {},
   "outputs": [
    {
     "name": "stdout",
     "output_type": "stream",
     "text": [
      "'data.frame':\t19001 obs. of  8 variables:\n",
      " $ coef     : num  -0.07361 -0.11956 0.015 0.00193 -0.10469 ...\n",
      " $ exp.coef.: num  0.929 0.887 1.015 1.002 0.901 ...\n",
      " $ se.coef. : num  0.0263 0.03 0.0265 0.0252 0.0287 ...\n",
      " $ z        : num  -2.7942 -3.9806 0.5665 0.0764 -3.6458 ...\n",
      " $ Pr...z.. : num  5.20e-03 6.88e-05 5.71e-01 9.39e-01 2.67e-04 ...\n",
      " $ V6       : num  -6835 -6831 -6839 -6839 -6832 ...\n",
      " $ genes    : chr  \"UBE2Q2P2\" \"?\" \"?\" \"EFCAB8\" ...\n",
      " $ entrez   : int  100134869 280660 340602 388795 442388 90288 1 29974 54715 87769 ...\n"
     ]
    },
    {
     "data": {
      "text/html": [
       "950"
      ],
      "text/latex": [
       "950"
      ],
      "text/markdown": [
       "950"
      ],
      "text/plain": [
       "[1] 950"
      ]
     },
     "metadata": {},
     "output_type": "display_data"
    }
   ],
   "source": [
    "# using cox ph survival genes controlled for many different confounders not related to immune system\n",
    "GeneMarkers.cox = read.table(\"pancancer.survival.genes.txt\", sep=\"\\t\", header = T)\n",
    "str(GeneMarkers.cox)\n",
    "GeneMarkers.cox = GeneMarkers.cox %>% arrange(desc(abs(coef))) %>% head(n=nrow(.)*0.05)\n",
    "GeneMarkers.cox = GeneMarkers.cox$genes\n",
    "GeneMarkers.cox = GeneMarkers.cox[GeneMarkers.cox != \"?\"]\n",
    "length(GeneMarkers.cox)"
   ]
  },
  {
   "cell_type": "code",
   "execution_count": 129,
   "metadata": {},
   "outputs": [
    {
     "name": "stdout",
     "output_type": "stream",
     "text": [
      "'data.frame':\t230 obs. of  1 variable:\n",
      " $ V1: chr  \"IL10RA\" \"IL10RB\" \"IL10\" \"IL11RA\" ...\n"
     ]
    },
    {
     "data": {
      "text/html": [
       "230"
      ],
      "text/latex": [
       "230"
      ],
      "text/markdown": [
       "230"
      ],
      "text/plain": [
       "[1] 230"
      ]
     },
     "metadata": {},
     "output_type": "display_data"
    }
   ],
   "source": [
    "# using cytokines\n",
    "GeneMarkers.cytokines = read.table(\"Cytokine_list.txt\", sep=\"\\t\", header = F)\n",
    "str(GeneMarkers.cytokines)\n",
    "GeneMarkers.cytokines = GeneMarkers.cytokines[,1]\n",
    "length(GeneMarkers.cytokines)"
   ]
  },
  {
   "cell_type": "code",
   "execution_count": 130,
   "metadata": {},
   "outputs": [
    {
     "name": "stdout",
     "output_type": "stream",
     "text": [
      "'data.frame':\t770 obs. of  3 variables:\n",
      " $ V1: chr  \"BIN1\" \"PACSIN3\" \"RND3\" \"ARHGDIB\" ...\n",
      " $ V2: num  1.522 -0.509 0.565 1.427 0.619 ...\n",
      " $ V3: num  -0.000182 1.692736 2.033305 -2.147408 1.585337 ...\n"
     ]
    },
    {
     "data": {
      "text/html": [
       "770"
      ],
      "text/latex": [
       "770"
      ],
      "text/markdown": [
       "770"
      ],
      "text/plain": [
       "[1] 770"
      ]
     },
     "metadata": {},
     "output_type": "display_data"
    }
   ],
   "source": [
    "# using tide genes\n",
    "GeneMarkers.tide = read.table(\"tide.genes.txt\", sep=\"\\t\", skip=1, header = F)\n",
    "str(GeneMarkers.tide)\n",
    "GeneMarkers.tide = GeneMarkers.tide[,1]\n",
    "length(GeneMarkers.tide)"
   ]
  },
  {
   "cell_type": "code",
   "execution_count": 131,
   "metadata": {},
   "outputs": [
    {
     "name": "stdout",
     "output_type": "stream",
     "text": [
      "'data.frame':\t1172 obs. of  1 variable:\n",
      " $ V1: chr  \"PFN2\" \"IL32\" \"KRT1\" \"UPP1\" ...\n"
     ]
    },
    {
     "data": {
      "text/html": [
       "1094"
      ],
      "text/latex": [
       "1094"
      ],
      "text/markdown": [
       "1094"
      ],
      "text/plain": [
       "[1] 1094"
      ]
     },
     "metadata": {},
     "output_type": "display_data"
    }
   ],
   "source": [
    "# using all immune related genes (tide + cytokines + immune pathway)\n",
    "GeneMarkers.all.immune = read.table(\"all.immune.genes.txt\", sep=\"\\t\", header = F)\n",
    "str(GeneMarkers.all.immune)\n",
    "GeneMarkers.all.immune = GeneMarkers.all.immune[,1]\n",
    "GeneMarkers.all.immune = unique(GeneMarkers.all.immune)\n",
    "length(GeneMarkers.all.immune)"
   ]
  },
  {
   "cell_type": "code",
   "execution_count": 132,
   "metadata": {},
   "outputs": [],
   "source": [
    "GeneMarkers = GeneMarkers.all.immune"
   ]
  },
  {
   "cell_type": "markdown",
   "metadata": {},
   "source": [
    "## Gene We Want To Predict"
   ]
  },
  {
   "cell_type": "code",
   "execution_count": 133,
   "metadata": {},
   "outputs": [
    {
     "name": "stdout",
     "output_type": "stream",
     "text": [
      "'data.frame':\t2 obs. of  1 variable:\n",
      " $ V1: chr  \"CD274\" \"PDCD1\"\n"
     ]
    },
    {
     "data": {
      "text/html": [
       "2"
      ],
      "text/latex": [
       "2"
      ],
      "text/markdown": [
       "2"
      ],
      "text/plain": [
       "[1] 2"
      ]
     },
     "metadata": {},
     "output_type": "display_data"
    }
   ],
   "source": [
    "immune.genes = read.table(\"immune.genes.subset.txt\", sep=\"\\t\", header = F)\n",
    "str(immune.genes)\n",
    "immune.genes = immune.genes[,1]\n",
    "immune.genes = unique(immune.genes)\n",
    "length(immune.genes)"
   ]
  },
  {
   "cell_type": "code",
   "execution_count": 134,
   "metadata": {},
   "outputs": [],
   "source": [
    "all.genes <- c(GeneMarkers, immune.genes)"
   ]
  },
  {
   "cell_type": "markdown",
   "metadata": {},
   "source": [
    "# Load Expression Data"
   ]
  },
  {
   "cell_type": "code",
   "execution_count": 135,
   "metadata": {},
   "outputs": [
    {
     "data": {
      "text/html": [
       "<ol class=list-inline>\n",
       "\t<li>'ACC'</li>\n",
       "\t<li>'BLCA'</li>\n",
       "\t<li>'BRCA'</li>\n",
       "\t<li>'CESC'</li>\n",
       "\t<li>'CHOL'</li>\n",
       "\t<li>'COAD'</li>\n",
       "\t<li>'DLBC'</li>\n",
       "\t<li>'ESCA'</li>\n",
       "\t<li>'GBM'</li>\n",
       "\t<li>'HNSC'</li>\n",
       "\t<li>'KICH'</li>\n",
       "\t<li>'KIRC'</li>\n",
       "\t<li>'KIRP'</li>\n",
       "\t<li>'LAML'</li>\n",
       "\t<li>'LGG'</li>\n",
       "\t<li>'LIHC'</li>\n",
       "\t<li>'LUAD'</li>\n",
       "\t<li>'LUSC'</li>\n",
       "\t<li>'MESO'</li>\n",
       "\t<li>'OV'</li>\n",
       "\t<li>'PAAD'</li>\n",
       "\t<li>'PCPG'</li>\n",
       "\t<li>'PRAD'</li>\n",
       "\t<li>'READ'</li>\n",
       "\t<li>'SARC'</li>\n",
       "\t<li>'SKCM'</li>\n",
       "\t<li>'STAD'</li>\n",
       "\t<li>'TGCT'</li>\n",
       "\t<li>'THCA'</li>\n",
       "\t<li>'THYM'</li>\n",
       "\t<li>'UCEC'</li>\n",
       "\t<li>'UCS'</li>\n",
       "\t<li>'UVM'</li>\n",
       "</ol>\n"
      ],
      "text/latex": [
       "\\begin{enumerate*}\n",
       "\\item 'ACC'\n",
       "\\item 'BLCA'\n",
       "\\item 'BRCA'\n",
       "\\item 'CESC'\n",
       "\\item 'CHOL'\n",
       "\\item 'COAD'\n",
       "\\item 'DLBC'\n",
       "\\item 'ESCA'\n",
       "\\item 'GBM'\n",
       "\\item 'HNSC'\n",
       "\\item 'KICH'\n",
       "\\item 'KIRC'\n",
       "\\item 'KIRP'\n",
       "\\item 'LAML'\n",
       "\\item 'LGG'\n",
       "\\item 'LIHC'\n",
       "\\item 'LUAD'\n",
       "\\item 'LUSC'\n",
       "\\item 'MESO'\n",
       "\\item 'OV'\n",
       "\\item 'PAAD'\n",
       "\\item 'PCPG'\n",
       "\\item 'PRAD'\n",
       "\\item 'READ'\n",
       "\\item 'SARC'\n",
       "\\item 'SKCM'\n",
       "\\item 'STAD'\n",
       "\\item 'TGCT'\n",
       "\\item 'THCA'\n",
       "\\item 'THYM'\n",
       "\\item 'UCEC'\n",
       "\\item 'UCS'\n",
       "\\item 'UVM'\n",
       "\\end{enumerate*}\n"
      ],
      "text/markdown": [
       "1. 'ACC'\n",
       "2. 'BLCA'\n",
       "3. 'BRCA'\n",
       "4. 'CESC'\n",
       "5. 'CHOL'\n",
       "6. 'COAD'\n",
       "7. 'DLBC'\n",
       "8. 'ESCA'\n",
       "9. 'GBM'\n",
       "10. 'HNSC'\n",
       "11. 'KICH'\n",
       "12. 'KIRC'\n",
       "13. 'KIRP'\n",
       "14. 'LAML'\n",
       "15. 'LGG'\n",
       "16. 'LIHC'\n",
       "17. 'LUAD'\n",
       "18. 'LUSC'\n",
       "19. 'MESO'\n",
       "20. 'OV'\n",
       "21. 'PAAD'\n",
       "22. 'PCPG'\n",
       "23. 'PRAD'\n",
       "24. 'READ'\n",
       "25. 'SARC'\n",
       "26. 'SKCM'\n",
       "27. 'STAD'\n",
       "28. 'TGCT'\n",
       "29. 'THCA'\n",
       "30. 'THYM'\n",
       "31. 'UCEC'\n",
       "32. 'UCS'\n",
       "33. 'UVM'\n",
       "\n",
       "\n"
      ],
      "text/plain": [
       " [1] \"ACC\"  \"BLCA\" \"BRCA\" \"CESC\" \"CHOL\" \"COAD\" \"DLBC\" \"ESCA\" \"GBM\"  \"HNSC\"\n",
       "[11] \"KICH\" \"KIRC\" \"KIRP\" \"LAML\" \"LGG\"  \"LIHC\" \"LUAD\" \"LUSC\" \"MESO\" \"OV\"  \n",
       "[21] \"PAAD\" \"PCPG\" \"PRAD\" \"READ\" \"SARC\" \"SKCM\" \"STAD\" \"TGCT\" \"THCA\" \"THYM\"\n",
       "[31] \"UCEC\" \"UCS\"  \"UVM\" "
      ]
     },
     "metadata": {},
     "output_type": "display_data"
    }
   ],
   "source": [
    "#expression data O2\n",
    "Exprfile=list.files(pattern = '.rds')\n",
    "\n",
    "Typename=gsub('_tpm.rds','',Exprfile)\n",
    "Typename=gsub('TCGA_','',Typename)\n",
    "Typename"
   ]
  },
  {
   "cell_type": "code",
   "execution_count": 136,
   "metadata": {},
   "outputs": [
    {
     "data": {
      "text/html": [
       "<table>\n",
       "<thead><tr><th></th><th scope=col>one</th><th scope=col>two</th><th scope=col>three</th></tr></thead>\n",
       "<tbody>\n",
       "\t<tr><th scope=row>A</th><td>5.666667</td><td>4.666667</td><td>2.000000</td></tr>\n",
       "\t<tr><th scope=row>B</th><td>2.000000</td><td>2.000000</td><td>3.000000</td></tr>\n",
       "\t<tr><th scope=row>C</th><td>3.000000</td><td>4.666667</td><td>4.666667</td></tr>\n",
       "\t<tr><th scope=row>D</th><td>4.666667</td><td>3.000000</td><td>5.666667</td></tr>\n",
       "</tbody>\n",
       "</table>\n"
      ],
      "text/latex": [
       "\\begin{tabular}{r|lll}\n",
       "  & one & two & three\\\\\n",
       "\\hline\n",
       "\tA & 5.666667 & 4.666667 & 2.000000\\\\\n",
       "\tB & 2.000000 & 2.000000 & 3.000000\\\\\n",
       "\tC & 3.000000 & 4.666667 & 4.666667\\\\\n",
       "\tD & 4.666667 & 3.000000 & 5.666667\\\\\n",
       "\\end{tabular}\n"
      ],
      "text/markdown": [
       "\n",
       "| <!--/--> | one | two | three | \n",
       "|---|---|---|---|\n",
       "| A | 5.666667 | 4.666667 | 2.000000 | \n",
       "| B | 2.000000 | 2.000000 | 3.000000 | \n",
       "| C | 3.000000 | 4.666667 | 4.666667 | \n",
       "| D | 4.666667 | 3.000000 | 5.666667 | \n",
       "\n",
       "\n"
      ],
      "text/plain": [
       "  one      two      three   \n",
       "A 5.666667 4.666667 2.000000\n",
       "B 2.000000 2.000000 3.000000\n",
       "C 3.000000 4.666667 4.666667\n",
       "D 4.666667 3.000000 5.666667"
      ]
     },
     "metadata": {},
     "output_type": "display_data"
    }
   ],
   "source": [
    "quantile_normalisation <- function(df){\n",
    "  df_rank <- apply(df,2,rank,ties.method=\"min\")\n",
    "  df_sorted <- data.frame(apply(df, 2, sort))\n",
    "  df_mean <- apply(df_sorted, 1, mean)\n",
    "   \n",
    "  index_to_mean <- function(my_index, my_mean){\n",
    "    return(my_mean[my_index])\n",
    "  }\n",
    "   \n",
    "  df_final <- apply(df_rank, 2, index_to_mean, my_mean=df_mean)\n",
    "  rownames(df_final) <- rownames(df)\n",
    "  return(df_final)\n",
    "}\n",
    "\n",
    "#test the function\n",
    "df <- data.frame(one=c(5,2,3,4),\n",
    "                 two=c(4,1,4,2),\n",
    "                 three=c(3,4,6,8)\n",
    "                 )\n",
    "rownames(df) <- toupper(letters[1:4])\n",
    " \n",
    "quantile_normalisation(df)"
   ]
  },
  {
   "cell_type": "code",
   "execution_count": 137,
   "metadata": {},
   "outputs": [],
   "source": [
    "Exprdata=lapply(Exprfile, readRDS)\n",
    "Exprdata=lapply(Exprdata, t)"
   ]
  },
  {
   "cell_type": "code",
   "execution_count": 138,
   "metadata": {},
   "outputs": [
    {
     "data": {
      "text/html": [
       "<ol class=list-inline>\n",
       "\t<li>'TNFRSF11A'</li>\n",
       "\t<li>'EPHB6'</li>\n",
       "\t<li>'SOCS5'</li>\n",
       "\t<li>'TIMP1'</li>\n",
       "\t<li>'IL15RA'</li>\n",
       "\t<li>'Type'</li>\n",
       "</ol>\n"
      ],
      "text/latex": [
       "\\begin{enumerate*}\n",
       "\\item 'TNFRSF11A'\n",
       "\\item 'EPHB6'\n",
       "\\item 'SOCS5'\n",
       "\\item 'TIMP1'\n",
       "\\item 'IL15RA'\n",
       "\\item 'Type'\n",
       "\\end{enumerate*}\n"
      ],
      "text/markdown": [
       "1. 'TNFRSF11A'\n",
       "2. 'EPHB6'\n",
       "3. 'SOCS5'\n",
       "4. 'TIMP1'\n",
       "5. 'IL15RA'\n",
       "6. 'Type'\n",
       "\n",
       "\n"
      ],
      "text/plain": [
       "[1] \"TNFRSF11A\" \"EPHB6\"     \"SOCS5\"     \"TIMP1\"     \"IL15RA\"    \"Type\"     "
      ]
     },
     "metadata": {},
     "output_type": "display_data"
    },
    {
     "data": {
      "text/html": [
       "<ol class=list-inline>\n",
       "\t<li>10912</li>\n",
       "\t<li>1079</li>\n",
       "</ol>\n"
      ],
      "text/latex": [
       "\\begin{enumerate*}\n",
       "\\item 10912\n",
       "\\item 1079\n",
       "\\end{enumerate*}\n"
      ],
      "text/markdown": [
       "1. 10912\n",
       "2. 1079\n",
       "\n",
       "\n"
      ],
      "text/plain": [
       "[1] 10912  1079"
      ]
     },
     "metadata": {},
     "output_type": "display_data"
    }
   ],
   "source": [
    "for (i in 1:length(Exprdata)) {\n",
    "  Exprdata[[i]] = as.data.frame(Exprdata[[i]])\n",
    "  Exprdata[[i]] = Exprdata[[i]][,colnames(Exprdata[[i]]) %in% all.genes]\n",
    "#   Exprdata[[i]] = quantile_normalisation(Exprdata[[i]])\n",
    "  Exprdata[[i]]=data.frame(as.data.frame(Exprdata[[i]]),Type=as.character(Typename[i]))\n",
    "  dim(Exprdata[[i]])\n",
    "}\n",
    "GeneExpr=do.call(rbind,Exprdata)\n",
    "tail(colnames(GeneExpr))\n",
    "dim(GeneExpr)"
   ]
  },
  {
   "cell_type": "code",
   "execution_count": 139,
   "metadata": {},
   "outputs": [],
   "source": [
    "# # remove genes with 0 expression\n",
    "# typelist <- GeneExpr$Type\n",
    "# medians <- apply(GeneExpr[,1:(ncol(GeneExpr)-1)], 2, median)\n",
    "# zero.medians <- which(medians == 0)\n",
    "# GeneExpr <- GeneExpr[, -zero.medians]\n",
    "# GeneExpr[,1:(ncol(GeneExpr)-1)] <- GeneExpr[,1:(ncol(GeneExpr)-1)] + 1\n",
    "# GeneExpr$Type <- typelist\n",
    "# tail(colnames(GeneExpr))\n",
    "# dim(GeneExpr)"
   ]
  },
  {
   "cell_type": "code",
   "execution_count": 140,
   "metadata": {},
   "outputs": [
    {
     "data": {
      "text/html": [
       "<ol class=list-inline>\n",
       "\t<li>'TNFRSF11A'</li>\n",
       "\t<li>'EPHB6'</li>\n",
       "\t<li>'SOCS5'</li>\n",
       "\t<li>'TIMP1'</li>\n",
       "\t<li>'IL15RA'</li>\n",
       "\t<li>'Type'</li>\n",
       "</ol>\n"
      ],
      "text/latex": [
       "\\begin{enumerate*}\n",
       "\\item 'TNFRSF11A'\n",
       "\\item 'EPHB6'\n",
       "\\item 'SOCS5'\n",
       "\\item 'TIMP1'\n",
       "\\item 'IL15RA'\n",
       "\\item 'Type'\n",
       "\\end{enumerate*}\n"
      ],
      "text/markdown": [
       "1. 'TNFRSF11A'\n",
       "2. 'EPHB6'\n",
       "3. 'SOCS5'\n",
       "4. 'TIMP1'\n",
       "5. 'IL15RA'\n",
       "6. 'Type'\n",
       "\n",
       "\n"
      ],
      "text/plain": [
       "[1] \"TNFRSF11A\" \"EPHB6\"     \"SOCS5\"     \"TIMP1\"     \"IL15RA\"    \"Type\"     "
      ]
     },
     "metadata": {},
     "output_type": "display_data"
    },
    {
     "data": {
      "text/html": [
       "<ol class=list-inline>\n",
       "\t<li>10912</li>\n",
       "\t<li>1079</li>\n",
       "</ol>\n"
      ],
      "text/latex": [
       "\\begin{enumerate*}\n",
       "\\item 10912\n",
       "\\item 1079\n",
       "\\end{enumerate*}\n"
      ],
      "text/markdown": [
       "1. 10912\n",
       "2. 1079\n",
       "\n",
       "\n"
      ],
      "text/plain": [
       "[1] 10912  1079"
      ]
     },
     "metadata": {},
     "output_type": "display_data"
    }
   ],
   "source": [
    "# add some episilon to correct for 0 expressions\n",
    "typelist <- GeneExpr$Type\n",
    "GeneExpr[,1:(ncol(GeneExpr)-1)] <- GeneExpr[,1:(ncol(GeneExpr)-1)] + 0.01\n",
    "tail(colnames(GeneExpr))\n",
    "dim(GeneExpr)"
   ]
  },
  {
   "cell_type": "code",
   "execution_count": 141,
   "metadata": {},
   "outputs": [
    {
     "data": {
      "text/html": [
       "0"
      ],
      "text/latex": [
       "0"
      ],
      "text/markdown": [
       "0"
      ],
      "text/plain": [
       "[1] 0"
      ]
     },
     "metadata": {},
     "output_type": "display_data"
    }
   ],
   "source": [
    "sum(is.na(GeneExpr))"
   ]
  },
  {
   "cell_type": "code",
   "execution_count": 142,
   "metadata": {},
   "outputs": [
    {
     "data": {
      "text/html": [
       "<ol class=list-inline>\n",
       "\t<li>'CD274'</li>\n",
       "\t<li>'PDCD1'</li>\n",
       "</ol>\n"
      ],
      "text/latex": [
       "\\begin{enumerate*}\n",
       "\\item 'CD274'\n",
       "\\item 'PDCD1'\n",
       "\\end{enumerate*}\n"
      ],
      "text/markdown": [
       "1. 'CD274'\n",
       "2. 'PDCD1'\n",
       "\n",
       "\n"
      ],
      "text/plain": [
       "[1] \"CD274\" \"PDCD1\""
      ]
     },
     "metadata": {},
     "output_type": "display_data"
    }
   ],
   "source": [
    "immune.genes"
   ]
  },
  {
   "cell_type": "code",
   "execution_count": 143,
   "metadata": {},
   "outputs": [
    {
     "data": {
      "text/html": [
       "<ol class=list-inline>\n",
       "\t<li>10912</li>\n",
       "\t<li>1082</li>\n",
       "</ol>\n"
      ],
      "text/latex": [
       "\\begin{enumerate*}\n",
       "\\item 10912\n",
       "\\item 1082\n",
       "\\end{enumerate*}\n"
      ],
      "text/markdown": [
       "1. 10912\n",
       "2. 1082\n",
       "\n",
       "\n"
      ],
      "text/plain": [
       "[1] 10912  1082"
      ]
     },
     "metadata": {},
     "output_type": "display_data"
    },
    {
     "data": {
      "text/html": [
       "<ol class=list-inline>\n",
       "\t<li>'TIMP1'</li>\n",
       "\t<li>'IL15RA'</li>\n",
       "\t<li>'Type'</li>\n",
       "\t<li>'sample'</li>\n",
       "\t<li>'survive'</li>\n",
       "\t<li>'vital_status'</li>\n",
       "</ol>\n"
      ],
      "text/latex": [
       "\\begin{enumerate*}\n",
       "\\item 'TIMP1'\n",
       "\\item 'IL15RA'\n",
       "\\item 'Type'\n",
       "\\item 'sample'\n",
       "\\item 'survive'\n",
       "\\item 'vital\\_status'\n",
       "\\end{enumerate*}\n"
      ],
      "text/markdown": [
       "1. 'TIMP1'\n",
       "2. 'IL15RA'\n",
       "3. 'Type'\n",
       "4. 'sample'\n",
       "5. 'survive'\n",
       "6. 'vital_status'\n",
       "\n",
       "\n"
      ],
      "text/plain": [
       "[1] \"TIMP1\"        \"IL15RA\"       \"Type\"         \"sample\"       \"survive\"     \n",
       "[6] \"vital_status\""
      ]
     },
     "metadata": {},
     "output_type": "display_data"
    },
    {
     "data": {
      "text/html": [
       "<ol class=list-inline>\n",
       "\t<li>'PFN2'</li>\n",
       "\t<li>'IL32'</li>\n",
       "\t<li>'KRT1'</li>\n",
       "\t<li>'UPP1'</li>\n",
       "\t<li>'KCNE4'</li>\n",
       "\t<li>'FCGR2B'</li>\n",
       "</ol>\n"
      ],
      "text/latex": [
       "\\begin{enumerate*}\n",
       "\\item 'PFN2'\n",
       "\\item 'IL32'\n",
       "\\item 'KRT1'\n",
       "\\item 'UPP1'\n",
       "\\item 'KCNE4'\n",
       "\\item 'FCGR2B'\n",
       "\\end{enumerate*}\n"
      ],
      "text/markdown": [
       "1. 'PFN2'\n",
       "2. 'IL32'\n",
       "3. 'KRT1'\n",
       "4. 'UPP1'\n",
       "5. 'KCNE4'\n",
       "6. 'FCGR2B'\n",
       "\n",
       "\n"
      ],
      "text/plain": [
       "[1] \"PFN2\"   \"IL32\"   \"KRT1\"   \"UPP1\"   \"KCNE4\"  \"FCGR2B\""
      ]
     },
     "metadata": {},
     "output_type": "display_data"
    }
   ],
   "source": [
    "#all TCGA barcode is 16 in geneexpress data, but the dbarcode in clinical data is 12\n",
    "GeneExpr$sample <- substr(rownames(GeneExpr),1,12)\n",
    "\n",
    "Expr_ClinData <- left_join(GeneExpr,Clinicaldata_sub,by=c('sample' = 'bcr_patient_barcode'))\n",
    "dim(Expr_ClinData)\n",
    "tail(colnames(Expr_ClinData))\n",
    "head(colnames(Expr_ClinData))"
   ]
  },
  {
   "cell_type": "markdown",
   "metadata": {},
   "source": [
    "# Data Cleaning"
   ]
  },
  {
   "cell_type": "code",
   "execution_count": 144,
   "metadata": {},
   "outputs": [
    {
     "data": {
      "text/html": [
       "<ol class=list-inline>\n",
       "\t<li>10815</li>\n",
       "\t<li>1082</li>\n",
       "</ol>\n"
      ],
      "text/latex": [
       "\\begin{enumerate*}\n",
       "\\item 10815\n",
       "\\item 1082\n",
       "\\end{enumerate*}\n"
      ],
      "text/markdown": [
       "1. 10815\n",
       "2. 1082\n",
       "\n",
       "\n"
      ],
      "text/plain": [
       "[1] 10815  1082"
      ]
     },
     "metadata": {},
     "output_type": "display_data"
    }
   ],
   "source": [
    "# remove rows with no survival information\n",
    "data <- Expr_ClinData[!is.na(Expr_ClinData[,'survive']),]\n",
    "dim(data)"
   ]
  },
  {
   "cell_type": "markdown",
   "metadata": {},
   "source": [
    "# Prepare Datasets"
   ]
  },
  {
   "cell_type": "code",
   "execution_count": 145,
   "metadata": {},
   "outputs": [],
   "source": [
    "# # normalize survival for each cancer type\n",
    "# data <- data %>% \n",
    "#     group_by(Type) %>% \n",
    "#     mutate(survive = (survive / max(survive, na.rm=T)))"
   ]
  },
  {
   "cell_type": "code",
   "execution_count": 146,
   "metadata": {},
   "outputs": [
    {
     "data": {
      "text/html": [
       "<ol class=list-inline>\n",
       "\t<li>10815</li>\n",
       "\t<li>1082</li>\n",
       "</ol>\n"
      ],
      "text/latex": [
       "\\begin{enumerate*}\n",
       "\\item 10815\n",
       "\\item 1082\n",
       "\\end{enumerate*}\n"
      ],
      "text/markdown": [
       "1. 10815\n",
       "2. 1082\n",
       "\n",
       "\n"
      ],
      "text/plain": [
       "[1] 10815  1082"
      ]
     },
     "metadata": {},
     "output_type": "display_data"
    }
   ],
   "source": [
    "dim(data)"
   ]
  },
  {
   "cell_type": "code",
   "execution_count": 147,
   "metadata": {},
   "outputs": [
    {
     "data": {
      "image/png": "[encoded data removed]",
      "text/plain": [
       "Plot with title “Histogram of means”"
      ]
     },
     "metadata": {},
     "output_type": "display_data"
    }
   ],
   "source": [
    "means <- apply(data[1:(ncol(data)-4)], 2, mean)\n",
    "hist(means)"
   ]
  },
  {
   "cell_type": "code",
   "execution_count": 148,
   "metadata": {},
   "outputs": [],
   "source": [
    "# write.table(data,file = 'Expr_ClinData_marker_normalized.txt',sep = '\\t')"
   ]
  },
  {
   "cell_type": "code",
   "execution_count": 149,
   "metadata": {},
   "outputs": [],
   "source": [
    "data <- data[, -which(names(data) %in% c('sample'))]\n",
    "data.surv <- data[,c(\"survive\", \"vital_status\")]\n",
    "data.immune <- data[,immune.genes]\n",
    "data.cancer.type <- data$Type"
   ]
  },
  {
   "cell_type": "code",
   "execution_count": 150,
   "metadata": {},
   "outputs": [],
   "source": [
    "# remove not needed columns\n",
    "data <- data[, -which(names(data) %in% c(\"sample\",\"Type\",\"survive\", \"vital_status\", immune.genes))]"
   ]
  },
  {
   "cell_type": "code",
   "execution_count": 151,
   "metadata": {},
   "outputs": [
    {
     "data": {
      "text/html": [
       "<table>\n",
       "<thead><tr><th scope=col>PFN2</th><th scope=col>IL32</th><th scope=col>KRT1</th><th scope=col>UPP1</th><th scope=col>KCNE4</th><th scope=col>FCGR2B</th><th scope=col>PHLDA2</th><th scope=col>ERRFI1</th><th scope=col>IL27RA</th><th scope=col>EPB41L2</th><th scope=col>⋯</th><th scope=col>TNFRSF9</th><th scope=col>CCL15</th><th scope=col>TCF7</th><th scope=col>BOLA1</th><th scope=col>TPST1</th><th scope=col>TNFRSF11A</th><th scope=col>EPHB6</th><th scope=col>SOCS5</th><th scope=col>TIMP1</th><th scope=col>IL15RA</th></tr></thead>\n",
       "<tbody>\n",
       "\t<tr><td>72.81227</td><td>69.73231</td><td> 0.01000</td><td>65.18008</td><td>57.76470</td><td>50.00255</td><td>54.81383</td><td>66.42077</td><td>55.97727</td><td>64.63891</td><td>⋯       </td><td>38.96523</td><td> 0.01000</td><td>58.70867</td><td>70.76825</td><td>64.27177</td><td>45.35897</td><td>49.43616</td><td>64.36710</td><td>86.38499</td><td>53.16527</td></tr>\n",
       "\t<tr><td>70.43614</td><td>57.96485</td><td> 0.01000</td><td>64.61409</td><td>62.56897</td><td>45.85766</td><td>54.08568</td><td>55.83826</td><td>55.02122</td><td>63.68281</td><td>⋯       </td><td>40.01601</td><td> 0.01000</td><td>60.15816</td><td>66.50065</td><td>65.67036</td><td>39.91196</td><td>42.26542</td><td>62.48327</td><td>81.13045</td><td>58.84041</td></tr>\n",
       "\t<tr><td>68.05602</td><td>73.62437</td><td> 0.01000</td><td>64.54972</td><td>70.01581</td><td>44.23138</td><td>48.14446</td><td>63.14341</td><td>59.08755</td><td>53.53226</td><td>⋯       </td><td>40.89978</td><td> 0.01000</td><td>51.62615</td><td>64.79117</td><td>64.25808</td><td>44.44828</td><td>43.09724</td><td>60.30762</td><td>94.12500</td><td>50.98794</td></tr>\n",
       "\t<tr><td>68.10270</td><td>68.15900</td><td> 0.01000</td><td>61.89079</td><td>57.34830</td><td>41.43827</td><td>52.08672</td><td>68.59607</td><td>60.35171</td><td>53.06598</td><td>⋯       </td><td>39.58144</td><td> 0.01000</td><td>53.46163</td><td>66.38530</td><td>63.78681</td><td>46.03283</td><td>52.83650</td><td>57.32118</td><td>95.83271</td><td>53.42827</td></tr>\n",
       "\t<tr><td>71.13905</td><td>59.93020</td><td> 0.01000</td><td>61.00816</td><td>57.72134</td><td>56.10036</td><td>46.94127</td><td>76.30807</td><td>59.83182</td><td>64.74360</td><td>⋯       </td><td>31.24826</td><td>41.68823</td><td>37.85671</td><td>69.72690</td><td>68.86331</td><td>51.19559</td><td>48.18511</td><td>64.34909</td><td>83.72757</td><td>57.10667</td></tr>\n",
       "\t<tr><td>71.70308</td><td>69.35128</td><td>34.19906</td><td>65.93097</td><td>57.08488</td><td>49.10884</td><td>52.24391</td><td>61.07338</td><td>60.10353</td><td>58.10287</td><td>⋯       </td><td>37.08590</td><td> 0.01000</td><td>53.13061</td><td>71.12095</td><td>67.36600</td><td>41.67274</td><td>48.02226</td><td>60.87709</td><td>74.54042</td><td>55.49380</td></tr>\n",
       "</tbody>\n",
       "</table>\n"
      ],
      "text/latex": [
       "\\begin{tabular}{r|llllllllllllllllllllllllllllllllllllllllllllllllllllllllllllllllllllllllllllllllllllllllllllllllllllllllllllllllllllllllllllllllllllllllllllllllllllllllllllllllllllllllllllllllllllllllllllllllllllllllllllllllllllllllllllllllllllllllllllllllllllllllllllllllllllllllllllllllllllllllllllllllllllllllllllllllllllllllllllllllllllllllllllllllllllllllllllllllllllllllllllllllllllllllllllllllllllllllllllllllllllllllllllllllllllllllllllllllllllllllllllllllllllllllllllllllllllllllllllllllllllllllllllllllllllllllllllllllllllllllllllllllllllllllllllllllllllllllllllllllllllllllllllllllllllllllllllllllllllllllllllllllllllllllllllllllllllllllllllllllllllllllllllllllllllllllllllllllllllllllllllllllllllllllllllllllllllllllllllllllllllllllllllllllllllllllllllllllllllllllllllllllllllllllllllllllllllllllllllllllllllllllllllllllllllllllllllllllllllllllllllllllllllllllllllllllllllllllllllllllllllllllllllllllllllllllllllllllllllllllllllllllllllllllllllllllllllllllllllllllllllllllllllllllllllllllllllllllllllllllllllllllllllllllllllllllllllllllllllllllllllllllllllllllllllllllllllllllllll}\n",
       " PFN2 & IL32 & KRT1 & UPP1 & KCNE4 & FCGR2B & PHLDA2 & ERRFI1 & IL27RA & EPB41L2 & ⋯ & TNFRSF9 & CCL15 & TCF7 & BOLA1 & TPST1 & TNFRSF11A & EPHB6 & SOCS5 & TIMP1 & IL15RA\\\\\n",
       "\\hline\n",
       "\t 72.81227 & 69.73231 &  0.01000 & 65.18008 & 57.76470 & 50.00255 & 54.81383 & 66.42077 & 55.97727 & 64.63891 & ⋯        & 38.96523 &  0.01000 & 58.70867 & 70.76825 & 64.27177 & 45.35897 & 49.43616 & 64.36710 & 86.38499 & 53.16527\\\\\n",
       "\t 70.43614 & 57.96485 &  0.01000 & 64.61409 & 62.56897 & 45.85766 & 54.08568 & 55.83826 & 55.02122 & 63.68281 & ⋯        & 40.01601 &  0.01000 & 60.15816 & 66.50065 & 65.67036 & 39.91196 & 42.26542 & 62.48327 & 81.13045 & 58.84041\\\\\n",
       "\t 68.05602 & 73.62437 &  0.01000 & 64.54972 & 70.01581 & 44.23138 & 48.14446 & 63.14341 & 59.08755 & 53.53226 & ⋯        & 40.89978 &  0.01000 & 51.62615 & 64.79117 & 64.25808 & 44.44828 & 43.09724 & 60.30762 & 94.12500 & 50.98794\\\\\n",
       "\t 68.10270 & 68.15900 &  0.01000 & 61.89079 & 57.34830 & 41.43827 & 52.08672 & 68.59607 & 60.35171 & 53.06598 & ⋯        & 39.58144 &  0.01000 & 53.46163 & 66.38530 & 63.78681 & 46.03283 & 52.83650 & 57.32118 & 95.83271 & 53.42827\\\\\n",
       "\t 71.13905 & 59.93020 &  0.01000 & 61.00816 & 57.72134 & 56.10036 & 46.94127 & 76.30807 & 59.83182 & 64.74360 & ⋯        & 31.24826 & 41.68823 & 37.85671 & 69.72690 & 68.86331 & 51.19559 & 48.18511 & 64.34909 & 83.72757 & 57.10667\\\\\n",
       "\t 71.70308 & 69.35128 & 34.19906 & 65.93097 & 57.08488 & 49.10884 & 52.24391 & 61.07338 & 60.10353 & 58.10287 & ⋯        & 37.08590 &  0.01000 & 53.13061 & 71.12095 & 67.36600 & 41.67274 & 48.02226 & 60.87709 & 74.54042 & 55.49380\\\\\n",
       "\\end{tabular}\n"
      ],
      "text/markdown": [
       "\n",
       "PFN2 | IL32 | KRT1 | UPP1 | KCNE4 | FCGR2B | PHLDA2 | ERRFI1 | IL27RA | EPB41L2 | ⋯ | TNFRSF9 | CCL15 | TCF7 | BOLA1 | TPST1 | TNFRSF11A | EPHB6 | SOCS5 | TIMP1 | IL15RA | \n",
       "|---|---|---|---|---|---|\n",
       "| 72.81227 | 69.73231 |  0.01000 | 65.18008 | 57.76470 | 50.00255 | 54.81383 | 66.42077 | 55.97727 | 64.63891 | ⋯        | 38.96523 |  0.01000 | 58.70867 | 70.76825 | 64.27177 | 45.35897 | 49.43616 | 64.36710 | 86.38499 | 53.16527 | \n",
       "| 70.43614 | 57.96485 |  0.01000 | 64.61409 | 62.56897 | 45.85766 | 54.08568 | 55.83826 | 55.02122 | 63.68281 | ⋯        | 40.01601 |  0.01000 | 60.15816 | 66.50065 | 65.67036 | 39.91196 | 42.26542 | 62.48327 | 81.13045 | 58.84041 | \n",
       "| 68.05602 | 73.62437 |  0.01000 | 64.54972 | 70.01581 | 44.23138 | 48.14446 | 63.14341 | 59.08755 | 53.53226 | ⋯        | 40.89978 |  0.01000 | 51.62615 | 64.79117 | 64.25808 | 44.44828 | 43.09724 | 60.30762 | 94.12500 | 50.98794 | \n",
       "| 68.10270 | 68.15900 |  0.01000 | 61.89079 | 57.34830 | 41.43827 | 52.08672 | 68.59607 | 60.35171 | 53.06598 | ⋯        | 39.58144 |  0.01000 | 53.46163 | 66.38530 | 63.78681 | 46.03283 | 52.83650 | 57.32118 | 95.83271 | 53.42827 | \n",
       "| 71.13905 | 59.93020 |  0.01000 | 61.00816 | 57.72134 | 56.10036 | 46.94127 | 76.30807 | 59.83182 | 64.74360 | ⋯        | 31.24826 | 41.68823 | 37.85671 | 69.72690 | 68.86331 | 51.19559 | 48.18511 | 64.34909 | 83.72757 | 57.10667 | \n",
       "| 71.70308 | 69.35128 | 34.19906 | 65.93097 | 57.08488 | 49.10884 | 52.24391 | 61.07338 | 60.10353 | 58.10287 | ⋯        | 37.08590 |  0.01000 | 53.13061 | 71.12095 | 67.36600 | 41.67274 | 48.02226 | 60.87709 | 74.54042 | 55.49380 | \n",
       "\n",
       "\n"
      ],
      "text/plain": [
       "  PFN2     IL32     KRT1     UPP1     KCNE4    FCGR2B   PHLDA2   ERRFI1  \n",
       "1 72.81227 69.73231  0.01000 65.18008 57.76470 50.00255 54.81383 66.42077\n",
       "2 70.43614 57.96485  0.01000 64.61409 62.56897 45.85766 54.08568 55.83826\n",
       "3 68.05602 73.62437  0.01000 64.54972 70.01581 44.23138 48.14446 63.14341\n",
       "4 68.10270 68.15900  0.01000 61.89079 57.34830 41.43827 52.08672 68.59607\n",
       "5 71.13905 59.93020  0.01000 61.00816 57.72134 56.10036 46.94127 76.30807\n",
       "6 71.70308 69.35128 34.19906 65.93097 57.08488 49.10884 52.24391 61.07338\n",
       "  IL27RA   EPB41L2  ⋯ TNFRSF9  CCL15    TCF7     BOLA1    TPST1    TNFRSF11A\n",
       "1 55.97727 64.63891 ⋯ 38.96523  0.01000 58.70867 70.76825 64.27177 45.35897 \n",
       "2 55.02122 63.68281 ⋯ 40.01601  0.01000 60.15816 66.50065 65.67036 39.91196 \n",
       "3 59.08755 53.53226 ⋯ 40.89978  0.01000 51.62615 64.79117 64.25808 44.44828 \n",
       "4 60.35171 53.06598 ⋯ 39.58144  0.01000 53.46163 66.38530 63.78681 46.03283 \n",
       "5 59.83182 64.74360 ⋯ 31.24826 41.68823 37.85671 69.72690 68.86331 51.19559 \n",
       "6 60.10353 58.10287 ⋯ 37.08590  0.01000 53.13061 71.12095 67.36600 41.67274 \n",
       "  EPHB6    SOCS5    TIMP1    IL15RA  \n",
       "1 49.43616 64.36710 86.38499 53.16527\n",
       "2 42.26542 62.48327 81.13045 58.84041\n",
       "3 43.09724 60.30762 94.12500 50.98794\n",
       "4 52.83650 57.32118 95.83271 53.42827\n",
       "5 48.18511 64.34909 83.72757 57.10667\n",
       "6 48.02226 60.87709 74.54042 55.49380"
      ]
     },
     "metadata": {},
     "output_type": "display_data"
    },
    {
     "data": {
      "text/html": [
       "<table>\n",
       "<thead><tr><th></th><th scope=col>PFN2</th><th scope=col>IL32</th><th scope=col>KRT1</th><th scope=col>UPP1</th><th scope=col>KCNE4</th><th scope=col>FCGR2B</th><th scope=col>PHLDA2</th><th scope=col>ERRFI1</th><th scope=col>IL27RA</th><th scope=col>EPB41L2</th><th scope=col>⋯</th><th scope=col>TNFRSF9</th><th scope=col>CCL15</th><th scope=col>TCF7</th><th scope=col>BOLA1</th><th scope=col>TPST1</th><th scope=col>TNFRSF11A</th><th scope=col>EPHB6</th><th scope=col>SOCS5</th><th scope=col>TIMP1</th><th scope=col>IL15RA</th></tr></thead>\n",
       "<tbody>\n",
       "\t<tr><th scope=row>10907</th><td>73.35664</td><td>57.82336</td><td> 0.01000</td><td>56.40781</td><td>69.02038</td><td>41.50187</td><td>57.35474</td><td>53.07918</td><td>49.49002</td><td>60.80522</td><td>⋯       </td><td>39.57300</td><td> 0.01000</td><td>55.49689</td><td>68.27627</td><td>66.60723</td><td>43.33364</td><td>51.53256</td><td>62.34988</td><td>79.03094</td><td>51.02353</td></tr>\n",
       "\t<tr><th scope=row>10908</th><td>70.40059</td><td>52.25944</td><td>30.30371</td><td>58.18553</td><td>57.89676</td><td>41.61768</td><td>65.80621</td><td>59.62312</td><td>47.86389</td><td>69.00530</td><td>⋯       </td><td>41.52645</td><td>29.14052</td><td>54.46330</td><td>62.88099</td><td>59.98646</td><td>43.28981</td><td>63.64039</td><td>59.27705</td><td>77.04321</td><td>46.51656</td></tr>\n",
       "\t<tr><th scope=row>10909</th><td>73.20467</td><td>55.47350</td><td> 0.01000</td><td>56.20222</td><td>69.98971</td><td>52.96650</td><td>72.15636</td><td>55.83987</td><td>53.89959</td><td>65.96412</td><td>⋯       </td><td> 0.01000</td><td> 0.01000</td><td>65.53950</td><td>70.14133</td><td>64.73807</td><td>40.09346</td><td>54.42309</td><td>62.50101</td><td>84.02433</td><td>46.45886</td></tr>\n",
       "\t<tr><th scope=row>10910</th><td>68.36156</td><td>58.52975</td><td> 0.01000</td><td>60.25700</td><td>61.64773</td><td>39.89421</td><td>72.27743</td><td>63.24461</td><td>57.41213</td><td>62.36383</td><td>⋯       </td><td>26.22473</td><td>33.94259</td><td>61.60251</td><td>68.13858</td><td>63.72226</td><td>46.80710</td><td>54.60825</td><td>62.73691</td><td>79.11899</td><td>48.27695</td></tr>\n",
       "\t<tr><th scope=row>10911</th><td>71.25807</td><td>58.23433</td><td>42.73589</td><td>60.74318</td><td>69.10394</td><td>40.89603</td><td>74.05983</td><td>59.01710</td><td>54.66041</td><td>65.31307</td><td>⋯       </td><td>33.62828</td><td> 0.01000</td><td>66.89054</td><td>67.83333</td><td>65.19418</td><td>40.08093</td><td>57.57651</td><td>61.95818</td><td>86.37476</td><td>54.13667</td></tr>\n",
       "\t<tr><th scope=row>10912</th><td>68.29061</td><td>58.45811</td><td> 0.01000</td><td>62.59498</td><td>78.77484</td><td>39.55317</td><td>72.75063</td><td>58.09257</td><td>60.89872</td><td>67.71836</td><td>⋯       </td><td>45.35047</td><td> 0.01000</td><td>66.45316</td><td>70.52306</td><td>66.74656</td><td>52.38483</td><td>55.64850</td><td>62.65790</td><td>83.75922</td><td>48.94176</td></tr>\n",
       "</tbody>\n",
       "</table>\n"
      ],
      "text/latex": [
       "\\begin{tabular}{r|llllllllllllllllllllllllllllllllllllllllllllllllllllllllllllllllllllllllllllllllllllllllllllllllllllllllllllllllllllllllllllllllllllllllllllllllllllllllllllllllllllllllllllllllllllllllllllllllllllllllllllllllllllllllllllllllllllllllllllllllllllllllllllllllllllllllllllllllllllllllllllllllllllllllllllllllllllllllllllllllllllllllllllllllllllllllllllllllllllllllllllllllllllllllllllllllllllllllllllllllllllllllllllllllllllllllllllllllllllllllllllllllllllllllllllllllllllllllllllllllllllllllllllllllllllllllllllllllllllllllllllllllllllllllllllllllllllllllllllllllllllllllllllllllllllllllllllllllllllllllllllllllllllllllllllllllllllllllllllllllllllllllllllllllllllllllllllllllllllllllllllllllllllllllllllllllllllllllllllllllllllllllllllllllllllllllllllllllllllllllllllllllllllllllllllllllllllllllllllllllllllllllllllllllllllllllllllllllllllllllllllllllllllllllllllllllllllllllllllllllllllllllllllllllllllllllllllllllllllllllllllllllllllllllllllllllllllllllllllllllllllllllllllllllllllllllllllllllllllllllllllllllllllllllllllllllllllllllllllllllllllllllllllllllllllllllllllllllllll}\n",
       "  & PFN2 & IL32 & KRT1 & UPP1 & KCNE4 & FCGR2B & PHLDA2 & ERRFI1 & IL27RA & EPB41L2 & ⋯ & TNFRSF9 & CCL15 & TCF7 & BOLA1 & TPST1 & TNFRSF11A & EPHB6 & SOCS5 & TIMP1 & IL15RA\\\\\n",
       "\\hline\n",
       "\t10907 & 73.35664 & 57.82336 &  0.01000 & 56.40781 & 69.02038 & 41.50187 & 57.35474 & 53.07918 & 49.49002 & 60.80522 & ⋯        & 39.57300 &  0.01000 & 55.49689 & 68.27627 & 66.60723 & 43.33364 & 51.53256 & 62.34988 & 79.03094 & 51.02353\\\\\n",
       "\t10908 & 70.40059 & 52.25944 & 30.30371 & 58.18553 & 57.89676 & 41.61768 & 65.80621 & 59.62312 & 47.86389 & 69.00530 & ⋯        & 41.52645 & 29.14052 & 54.46330 & 62.88099 & 59.98646 & 43.28981 & 63.64039 & 59.27705 & 77.04321 & 46.51656\\\\\n",
       "\t10909 & 73.20467 & 55.47350 &  0.01000 & 56.20222 & 69.98971 & 52.96650 & 72.15636 & 55.83987 & 53.89959 & 65.96412 & ⋯        &  0.01000 &  0.01000 & 65.53950 & 70.14133 & 64.73807 & 40.09346 & 54.42309 & 62.50101 & 84.02433 & 46.45886\\\\\n",
       "\t10910 & 68.36156 & 58.52975 &  0.01000 & 60.25700 & 61.64773 & 39.89421 & 72.27743 & 63.24461 & 57.41213 & 62.36383 & ⋯        & 26.22473 & 33.94259 & 61.60251 & 68.13858 & 63.72226 & 46.80710 & 54.60825 & 62.73691 & 79.11899 & 48.27695\\\\\n",
       "\t10911 & 71.25807 & 58.23433 & 42.73589 & 60.74318 & 69.10394 & 40.89603 & 74.05983 & 59.01710 & 54.66041 & 65.31307 & ⋯        & 33.62828 &  0.01000 & 66.89054 & 67.83333 & 65.19418 & 40.08093 & 57.57651 & 61.95818 & 86.37476 & 54.13667\\\\\n",
       "\t10912 & 68.29061 & 58.45811 &  0.01000 & 62.59498 & 78.77484 & 39.55317 & 72.75063 & 58.09257 & 60.89872 & 67.71836 & ⋯        & 45.35047 &  0.01000 & 66.45316 & 70.52306 & 66.74656 & 52.38483 & 55.64850 & 62.65790 & 83.75922 & 48.94176\\\\\n",
       "\\end{tabular}\n"
      ],
      "text/markdown": [
       "\n",
       "| <!--/--> | PFN2 | IL32 | KRT1 | UPP1 | KCNE4 | FCGR2B | PHLDA2 | ERRFI1 | IL27RA | EPB41L2 | ⋯ | TNFRSF9 | CCL15 | TCF7 | BOLA1 | TPST1 | TNFRSF11A | EPHB6 | SOCS5 | TIMP1 | IL15RA | \n",
       "|---|---|---|---|---|---|\n",
       "| 10907 | 73.35664 | 57.82336 |  0.01000 | 56.40781 | 69.02038 | 41.50187 | 57.35474 | 53.07918 | 49.49002 | 60.80522 | ⋯        | 39.57300 |  0.01000 | 55.49689 | 68.27627 | 66.60723 | 43.33364 | 51.53256 | 62.34988 | 79.03094 | 51.02353 | \n",
       "| 10908 | 70.40059 | 52.25944 | 30.30371 | 58.18553 | 57.89676 | 41.61768 | 65.80621 | 59.62312 | 47.86389 | 69.00530 | ⋯        | 41.52645 | 29.14052 | 54.46330 | 62.88099 | 59.98646 | 43.28981 | 63.64039 | 59.27705 | 77.04321 | 46.51656 | \n",
       "| 10909 | 73.20467 | 55.47350 |  0.01000 | 56.20222 | 69.98971 | 52.96650 | 72.15636 | 55.83987 | 53.89959 | 65.96412 | ⋯        |  0.01000 |  0.01000 | 65.53950 | 70.14133 | 64.73807 | 40.09346 | 54.42309 | 62.50101 | 84.02433 | 46.45886 | \n",
       "| 10910 | 68.36156 | 58.52975 |  0.01000 | 60.25700 | 61.64773 | 39.89421 | 72.27743 | 63.24461 | 57.41213 | 62.36383 | ⋯        | 26.22473 | 33.94259 | 61.60251 | 68.13858 | 63.72226 | 46.80710 | 54.60825 | 62.73691 | 79.11899 | 48.27695 | \n",
       "| 10911 | 71.25807 | 58.23433 | 42.73589 | 60.74318 | 69.10394 | 40.89603 | 74.05983 | 59.01710 | 54.66041 | 65.31307 | ⋯        | 33.62828 |  0.01000 | 66.89054 | 67.83333 | 65.19418 | 40.08093 | 57.57651 | 61.95818 | 86.37476 | 54.13667 | \n",
       "| 10912 | 68.29061 | 58.45811 |  0.01000 | 62.59498 | 78.77484 | 39.55317 | 72.75063 | 58.09257 | 60.89872 | 67.71836 | ⋯        | 45.35047 |  0.01000 | 66.45316 | 70.52306 | 66.74656 | 52.38483 | 55.64850 | 62.65790 | 83.75922 | 48.94176 | \n",
       "\n",
       "\n"
      ],
      "text/plain": [
       "      PFN2     IL32     KRT1     UPP1     KCNE4    FCGR2B   PHLDA2   ERRFI1  \n",
       "10907 73.35664 57.82336  0.01000 56.40781 69.02038 41.50187 57.35474 53.07918\n",
       "10908 70.40059 52.25944 30.30371 58.18553 57.89676 41.61768 65.80621 59.62312\n",
       "10909 73.20467 55.47350  0.01000 56.20222 69.98971 52.96650 72.15636 55.83987\n",
       "10910 68.36156 58.52975  0.01000 60.25700 61.64773 39.89421 72.27743 63.24461\n",
       "10911 71.25807 58.23433 42.73589 60.74318 69.10394 40.89603 74.05983 59.01710\n",
       "10912 68.29061 58.45811  0.01000 62.59498 78.77484 39.55317 72.75063 58.09257\n",
       "      IL27RA   EPB41L2  ⋯ TNFRSF9  CCL15    TCF7     BOLA1    TPST1   \n",
       "10907 49.49002 60.80522 ⋯ 39.57300  0.01000 55.49689 68.27627 66.60723\n",
       "10908 47.86389 69.00530 ⋯ 41.52645 29.14052 54.46330 62.88099 59.98646\n",
       "10909 53.89959 65.96412 ⋯  0.01000  0.01000 65.53950 70.14133 64.73807\n",
       "10910 57.41213 62.36383 ⋯ 26.22473 33.94259 61.60251 68.13858 63.72226\n",
       "10911 54.66041 65.31307 ⋯ 33.62828  0.01000 66.89054 67.83333 65.19418\n",
       "10912 60.89872 67.71836 ⋯ 45.35047  0.01000 66.45316 70.52306 66.74656\n",
       "      TNFRSF11A EPHB6    SOCS5    TIMP1    IL15RA  \n",
       "10907 43.33364  51.53256 62.34988 79.03094 51.02353\n",
       "10908 43.28981  63.64039 59.27705 77.04321 46.51656\n",
       "10909 40.09346  54.42309 62.50101 84.02433 46.45886\n",
       "10910 46.80710  54.60825 62.73691 79.11899 48.27695\n",
       "10911 40.08093  57.57651 61.95818 86.37476 54.13667\n",
       "10912 52.38483  55.64850 62.65790 83.75922 48.94176"
      ]
     },
     "metadata": {},
     "output_type": "display_data"
    }
   ],
   "source": [
    "head(data)\n",
    "tail(data)"
   ]
  },
  {
   "cell_type": "code",
   "execution_count": null,
   "metadata": {},
   "outputs": [],
   "source": [
    "set.seed(50135)\n",
    "savepath = '/home/pzs2/capstone/proj/TCGA_processed/pancancer_all_immune_non_norm_surv/'\n",
    "\n",
    "tr.ind=sample(1:nrow(data),replace = F,size = 0.8*nrow(data))\n",
    "tmp=setdiff(1:nrow(data),tr.ind)\n",
    "val.ind=sample(tmp,replace = F,size =0.1*nrow(data))\n",
    "eval.ind=setdiff(tmp,val.ind)\n",
    "\n",
    "\n",
    "# features\n",
    "TrainingData=data[tr.ind,]\n",
    "TestData=data[val.ind,]\n",
    "EvalData=data[eval.ind,]\n",
    "write.table(EvalData,file = paste0(savepath,'EvalData.txt'),sep = '\\t', row.names = F, quote = F)\n",
    "write.table(TestData,file = paste0(savepath,'TestData.txt'),sep = '\\t',row.names = F, quote = F)\n",
    "write.table(TrainingData,file = paste0(savepath,'TrainingData.txt'),sep = '\\t',row.names = F, quote = F)\n",
    "\n",
    "# survival labels\n",
    "TrainingData=data.surv[tr.ind,]\n",
    "TestData=data.surv[val.ind,]\n",
    "EvalData=data.surv[eval.ind,]\n",
    "write.table(EvalData,file = paste0(savepath,'surv.eval.txt'),sep = '\\t', row.names = F, quote = F)\n",
    "write.table(TestData,file = paste0(savepath,'surv.test.txt'),sep = '\\t',row.names = F, quote = F)\n",
    "write.table(TrainingData,file = paste0(savepath,'surv.train..txt'),sep = '\\t',row.names = F, quote = F)\n",
    "\n",
    "# geneset labels\n",
    "TrainingData=data.immune[tr.ind,]\n",
    "TestData=data.immune[val.ind,]\n",
    "EvalData=data.immune[eval.ind,]\n",
    "write.table(EvalData,file = paste0(savepath,'immune.genes.eval.txt'),sep = '\\t', row.names = F, quote = F)\n",
    "write.table(TestData,file = paste0(savepath,'immune.genes.test.txt'),sep = '\\t',row.names = F, quote = F)\n",
    "write.table(TrainingData,file = paste0(savepath,'immune.genes.train.txt'),sep = '\\t',row.names = F, quote = F)\n",
    "\n",
    "# cancer types\n",
    "TrainingData=data.cancer.type[tr.ind]\n",
    "TestData=data.cancer.type[val.ind]\n",
    "EvalData=data.cancer.type[eval.ind]\n",
    "write.table(EvalData,file = paste0(savepath,'cancer.type.eval.txt'),sep = '\\t', row.names = F, quote = F)\n",
    "write.table(TestData,file = paste0(savepath,'cancer.type.test.txt'),sep = '\\t',row.names = F, quote = F)\n",
    "write.table(TrainingData,file = paste0(savepath,'cancer.type.train.txt'),sep = '\\t',row.names = F, quote = F)\n",
    "\n",
    "# write out geneset used\n",
    "genes <- colnames(data)\n",
    "genes <- genes[1:(length(genes) -2)]\n",
    "write.table(genes, file=paste0(savepath,'geneset.txt'),row.names = F, quote = F)"
   ]
  },
  {
   "cell_type": "code",
   "execution_count": null,
   "metadata": {},
   "outputs": [],
   "source": []
  },
  {
   "cell_type": "code",
   "execution_count": null,
   "metadata": {},
   "outputs": [],
   "source": []
  }
 ],
 "metadata": {
  "kernelspec": {
   "display_name": "R",
   "language": "R",
   "name": "ir"
  },
  "language_info": {
   "codemirror_mode": "r",
   "file_extension": ".r",
   "mimetype": "text/x-r-source",
   "name": "R",
   "pygments_lexer": "r",
   "version": "3.4.1"
  }
 },
 "nbformat": 4,
 "nbformat_minor": 2
}
