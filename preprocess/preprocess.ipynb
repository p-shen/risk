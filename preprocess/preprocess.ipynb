{
 "cells": [
  {
   "cell_type": "code",
   "execution_count": 32,
   "metadata": {},
   "outputs": [],
   "source": [
    "library(dplyr)"
   ]
  },
  {
   "cell_type": "code",
   "execution_count": 33,
   "metadata": {},
   "outputs": [
    {
     "name": "stderr",
     "output_type": "stream",
     "text": [
      "Warning message in eval(expr, envir, enclos):\n",
      "“NAs introduced by coercion”Warning message in eval(expr, envir, enclos):\n",
      "“NAs introduced by coercion”"
     ]
    }
   ],
   "source": [
    "setwd('/home/pzs2/TCGA')\n",
    "options(stringsAsFactors = F)\n",
    "\n",
    "#setwd('d:/Harvard/Lab/Peter/')\n",
    "Clinicaldata=read.delim('clinical_PANCAN_patient_with_followup.tsv',stringsAsFactors = F)\n",
    "#extract ID,survive info and censor info\n",
    "Clinicaldata_sub=Clinicaldata[,c(2,5,7,8)]\n",
    "#assemble data\n",
    "Clinicaldata_sub[Clinicaldata_sub$vital_status=='Dead','vital_status']=1\n",
    "Clinicaldata_sub[Clinicaldata_sub$vital_status=='Alive','vital_status']=0\n",
    "Clinicaldata_sub$survive=NA\n",
    "Clinicaldata_sub[Clinicaldata_sub$vital_status==1,'survive']<-\n",
    "    Clinicaldata_sub[Clinicaldata_sub$vital_status==1,'days_to_death']\n",
    "Clinicaldata_sub[Clinicaldata_sub$vital_status==0,'survive']<-\n",
    "    Clinicaldata_sub[Clinicaldata_sub$vital_status==0,'days_to_last_followup']\n",
    "Clinicaldata_sub$bcr_patient_barcode=gsub(pattern = '-',replacement = '.',\n",
    "                                          Clinicaldata_sub$bcr_patient_barcode)\n",
    "Clinicaldata_sub=Clinicaldata_sub[,c(\"bcr_patient_barcode\",\"survive\",\"vital_status\")]\n",
    "Clinicaldata_sub$survive=as.numeric(Clinicaldata_sub$survive)\n",
    "Clinicaldata_sub$vital_status=as.numeric(Clinicaldata_sub$vital_status)\n"
   ]
  },
  {
   "cell_type": "code",
   "execution_count": 34,
   "metadata": {},
   "outputs": [],
   "source": [
    "#read all gene markers and remove duplicates\n",
    "genefile=list.files(pattern = '^genes')\n",
    "genedata=lapply(genefile, read.table)\n",
    "GeneMarkers.all=do.call(rbind,genedata)\n",
    "GeneMarkers.all=GeneMarkers.all[!duplicated(GeneMarkers.all$V1),]"
   ]
  },
  {
   "cell_type": "code",
   "execution_count": 35,
   "metadata": {},
   "outputs": [
    {
     "name": "stdout",
     "output_type": "stream",
     "text": [
      "'data.frame':\t19001 obs. of  8 variables:\n",
      " $ coef     : num  -0.07361 -0.11956 0.015 0.00193 -0.10469 ...\n",
      " $ exp.coef.: num  0.929 0.887 1.015 1.002 0.901 ...\n",
      " $ se.coef. : num  0.0263 0.03 0.0265 0.0252 0.0287 ...\n",
      " $ z        : num  -2.7942 -3.9806 0.5665 0.0764 -3.6458 ...\n",
      " $ Pr...z.. : num  5.20e-03 6.88e-05 5.71e-01 9.39e-01 2.67e-04 ...\n",
      " $ V6       : num  -6835 -6831 -6839 -6839 -6832 ...\n",
      " $ genes    : chr  \"UBE2Q2P2\" \"?\" \"?\" \"EFCAB8\" ...\n",
      " $ entrez   : int  100134869 280660 340602 388795 442388 90288 1 29974 54715 87769 ...\n"
     ]
    },
    {
     "data": {
      "text/html": [
       "950"
      ],
      "text/latex": [
       "950"
      ],
      "text/markdown": [
       "950"
      ],
      "text/plain": [
       "[1] 950"
      ]
     },
     "metadata": {},
     "output_type": "display_data"
    }
   ],
   "source": [
    "# using cox ph survival genes controlled for many different confounders not related to immune system\n",
    "GeneMarkers.cox = read.table(\"pancancer.survival.genes.txt\", sep=\"\\t\", header = T)\n",
    "str(GeneMarkers.cox)\n",
    "GeneMarkers.cox = GeneMarkers.cox %>% arrange(desc(abs(coef))) %>% head(n=nrow(.)*0.05)\n",
    "GeneMarkers.cox = GeneMarkers.cox$genes\n",
    "GeneMarkers.cox = GeneMarkers.cox[GeneMarkers.cox != \"?\"]\n",
    "length(GeneMarkers.cox)"
   ]
  },
  {
   "cell_type": "code",
   "execution_count": 36,
   "metadata": {},
   "outputs": [
    {
     "name": "stdout",
     "output_type": "stream",
     "text": [
      "'data.frame':\t230 obs. of  1 variable:\n",
      " $ V1: chr  \"IL10RA\" \"IL10RB\" \"IL10\" \"IL11RA\" ...\n"
     ]
    },
    {
     "data": {
      "text/html": [
       "230"
      ],
      "text/latex": [
       "230"
      ],
      "text/markdown": [
       "230"
      ],
      "text/plain": [
       "[1] 230"
      ]
     },
     "metadata": {},
     "output_type": "display_data"
    }
   ],
   "source": [
    "# using cytokines\n",
    "GeneMarkers.cytokines = read.table(\"Cytokine_list.txt\", sep=\"\\t\", header = F)\n",
    "str(GeneMarkers.cytokines)\n",
    "GeneMarkers.cytokines = GeneMarkers.cytokines[,1]\n",
    "length(GeneMarkers.cytokines)"
   ]
  },
  {
   "cell_type": "code",
   "execution_count": 37,
   "metadata": {},
   "outputs": [
    {
     "name": "stdout",
     "output_type": "stream",
     "text": [
      "'data.frame':\t770 obs. of  3 variables:\n",
      " $ V1: chr  \"BIN1\" \"PACSIN3\" \"RND3\" \"ARHGDIB\" ...\n",
      " $ V2: num  1.522 -0.509 0.565 1.427 0.619 ...\n",
      " $ V3: num  -0.000182 1.692736 2.033305 -2.147408 1.585337 ...\n"
     ]
    },
    {
     "data": {
      "text/html": [
       "770"
      ],
      "text/latex": [
       "770"
      ],
      "text/markdown": [
       "770"
      ],
      "text/plain": [
       "[1] 770"
      ]
     },
     "metadata": {},
     "output_type": "display_data"
    }
   ],
   "source": [
    "# using tide genes\n",
    "GeneMarkers.tide = read.table(\"tide.genes.txt\", sep=\"\\t\", skip=1, header = F)\n",
    "str(GeneMarkers.tide)\n",
    "GeneMarkers.tide = GeneMarkers.tide[,1]\n",
    "length(GeneMarkers.tide)"
   ]
  },
  {
   "cell_type": "code",
   "execution_count": 38,
   "metadata": {},
   "outputs": [
    {
     "name": "stdout",
     "output_type": "stream",
     "text": [
      "'data.frame':\t1174 obs. of  1 variable:\n",
      " $ V1: chr  \"PFN2\" \"IL32\" \"KRT1\" \"UPP1\" ...\n"
     ]
    },
    {
     "data": {
      "text/html": [
       "1096"
      ],
      "text/latex": [
       "1096"
      ],
      "text/markdown": [
       "1096"
      ],
      "text/plain": [
       "[1] 1096"
      ]
     },
     "metadata": {},
     "output_type": "display_data"
    }
   ],
   "source": [
    "# using all immune related genes (tide + cytokines + immune pathway)\n",
    "GeneMarkers.all.immune = read.table(\"all.immune.genes.txt\", sep=\"\\t\", header = F)\n",
    "str(GeneMarkers.all.immune)\n",
    "GeneMarkers.all.immune = GeneMarkers.all.immune[,1]\n",
    "GeneMarkers.all.immune = unique(GeneMarkers.all.immune)\n",
    "length(GeneMarkers.all.immune)"
   ]
  },
  {
   "cell_type": "code",
   "execution_count": 39,
   "metadata": {},
   "outputs": [],
   "source": [
    "GeneMarkers = GeneMarkers.all.immune"
   ]
  },
  {
   "cell_type": "code",
   "execution_count": 40,
   "metadata": {},
   "outputs": [
    {
     "data": {
      "text/html": [
       "<ol class=list-inline>\n",
       "\t<li>'ACC'</li>\n",
       "\t<li>'BLCA'</li>\n",
       "\t<li>'BRCA'</li>\n",
       "\t<li>'CESC'</li>\n",
       "\t<li>'CHOL'</li>\n",
       "\t<li>'COAD'</li>\n",
       "\t<li>'DLBC'</li>\n",
       "\t<li>'ESCA'</li>\n",
       "\t<li>'GBM'</li>\n",
       "\t<li>'HNSC'</li>\n",
       "\t<li>'KICH'</li>\n",
       "\t<li>'KIRC'</li>\n",
       "\t<li>'KIRP'</li>\n",
       "\t<li>'LAML'</li>\n",
       "\t<li>'LGG'</li>\n",
       "\t<li>'LIHC'</li>\n",
       "\t<li>'LUAD'</li>\n",
       "\t<li>'LUSC'</li>\n",
       "\t<li>'MESO'</li>\n",
       "\t<li>'OV'</li>\n",
       "\t<li>'PAAD'</li>\n",
       "\t<li>'PCPG'</li>\n",
       "\t<li>'PRAD'</li>\n",
       "\t<li>'READ'</li>\n",
       "\t<li>'SARC'</li>\n",
       "\t<li>'SKCM'</li>\n",
       "\t<li>'STAD'</li>\n",
       "\t<li>'TGCT'</li>\n",
       "\t<li>'THCA'</li>\n",
       "\t<li>'THYM'</li>\n",
       "\t<li>'UCEC'</li>\n",
       "\t<li>'UCS'</li>\n",
       "\t<li>'UVM'</li>\n",
       "</ol>\n"
      ],
      "text/latex": [
       "\\begin{enumerate*}\n",
       "\\item 'ACC'\n",
       "\\item 'BLCA'\n",
       "\\item 'BRCA'\n",
       "\\item 'CESC'\n",
       "\\item 'CHOL'\n",
       "\\item 'COAD'\n",
       "\\item 'DLBC'\n",
       "\\item 'ESCA'\n",
       "\\item 'GBM'\n",
       "\\item 'HNSC'\n",
       "\\item 'KICH'\n",
       "\\item 'KIRC'\n",
       "\\item 'KIRP'\n",
       "\\item 'LAML'\n",
       "\\item 'LGG'\n",
       "\\item 'LIHC'\n",
       "\\item 'LUAD'\n",
       "\\item 'LUSC'\n",
       "\\item 'MESO'\n",
       "\\item 'OV'\n",
       "\\item 'PAAD'\n",
       "\\item 'PCPG'\n",
       "\\item 'PRAD'\n",
       "\\item 'READ'\n",
       "\\item 'SARC'\n",
       "\\item 'SKCM'\n",
       "\\item 'STAD'\n",
       "\\item 'TGCT'\n",
       "\\item 'THCA'\n",
       "\\item 'THYM'\n",
       "\\item 'UCEC'\n",
       "\\item 'UCS'\n",
       "\\item 'UVM'\n",
       "\\end{enumerate*}\n"
      ],
      "text/markdown": [
       "1. 'ACC'\n",
       "2. 'BLCA'\n",
       "3. 'BRCA'\n",
       "4. 'CESC'\n",
       "5. 'CHOL'\n",
       "6. 'COAD'\n",
       "7. 'DLBC'\n",
       "8. 'ESCA'\n",
       "9. 'GBM'\n",
       "10. 'HNSC'\n",
       "11. 'KICH'\n",
       "12. 'KIRC'\n",
       "13. 'KIRP'\n",
       "14. 'LAML'\n",
       "15. 'LGG'\n",
       "16. 'LIHC'\n",
       "17. 'LUAD'\n",
       "18. 'LUSC'\n",
       "19. 'MESO'\n",
       "20. 'OV'\n",
       "21. 'PAAD'\n",
       "22. 'PCPG'\n",
       "23. 'PRAD'\n",
       "24. 'READ'\n",
       "25. 'SARC'\n",
       "26. 'SKCM'\n",
       "27. 'STAD'\n",
       "28. 'TGCT'\n",
       "29. 'THCA'\n",
       "30. 'THYM'\n",
       "31. 'UCEC'\n",
       "32. 'UCS'\n",
       "33. 'UVM'\n",
       "\n",
       "\n"
      ],
      "text/plain": [
       " [1] \"ACC\"  \"BLCA\" \"BRCA\" \"CESC\" \"CHOL\" \"COAD\" \"DLBC\" \"ESCA\" \"GBM\"  \"HNSC\"\n",
       "[11] \"KICH\" \"KIRC\" \"KIRP\" \"LAML\" \"LGG\"  \"LIHC\" \"LUAD\" \"LUSC\" \"MESO\" \"OV\"  \n",
       "[21] \"PAAD\" \"PCPG\" \"PRAD\" \"READ\" \"SARC\" \"SKCM\" \"STAD\" \"TGCT\" \"THCA\" \"THYM\"\n",
       "[31] \"UCEC\" \"UCS\"  \"UVM\" "
      ]
     },
     "metadata": {},
     "output_type": "display_data"
    }
   ],
   "source": [
    "#expression data O2\n",
    "Exprfile=list.files(pattern = '.rds')\n",
    "\n",
    "Typename=gsub('_tpm.rds','',Exprfile)\n",
    "Typename=gsub('TCGA_','',Typename)\n",
    "Typename"
   ]
  },
  {
   "cell_type": "code",
   "execution_count": 41,
   "metadata": {},
   "outputs": [
    {
     "data": {
      "text/html": [
       "<table>\n",
       "<thead><tr><th></th><th scope=col>one</th><th scope=col>two</th><th scope=col>three</th></tr></thead>\n",
       "<tbody>\n",
       "\t<tr><th scope=row>A</th><td>5.666667</td><td>4.666667</td><td>2.000000</td></tr>\n",
       "\t<tr><th scope=row>B</th><td>2.000000</td><td>2.000000</td><td>3.000000</td></tr>\n",
       "\t<tr><th scope=row>C</th><td>3.000000</td><td>4.666667</td><td>4.666667</td></tr>\n",
       "\t<tr><th scope=row>D</th><td>4.666667</td><td>3.000000</td><td>5.666667</td></tr>\n",
       "</tbody>\n",
       "</table>\n"
      ],
      "text/latex": [
       "\\begin{tabular}{r|lll}\n",
       "  & one & two & three\\\\\n",
       "\\hline\n",
       "\tA & 5.666667 & 4.666667 & 2.000000\\\\\n",
       "\tB & 2.000000 & 2.000000 & 3.000000\\\\\n",
       "\tC & 3.000000 & 4.666667 & 4.666667\\\\\n",
       "\tD & 4.666667 & 3.000000 & 5.666667\\\\\n",
       "\\end{tabular}\n"
      ],
      "text/markdown": [
       "\n",
       "| <!--/--> | one | two | three | \n",
       "|---|---|---|---|\n",
       "| A | 5.666667 | 4.666667 | 2.000000 | \n",
       "| B | 2.000000 | 2.000000 | 3.000000 | \n",
       "| C | 3.000000 | 4.666667 | 4.666667 | \n",
       "| D | 4.666667 | 3.000000 | 5.666667 | \n",
       "\n",
       "\n"
      ],
      "text/plain": [
       "  one      two      three   \n",
       "A 5.666667 4.666667 2.000000\n",
       "B 2.000000 2.000000 3.000000\n",
       "C 3.000000 4.666667 4.666667\n",
       "D 4.666667 3.000000 5.666667"
      ]
     },
     "metadata": {},
     "output_type": "display_data"
    }
   ],
   "source": [
    "quantile_normalisation <- function(df){\n",
    "  df_rank <- apply(df,2,rank,ties.method=\"min\")\n",
    "  df_sorted <- data.frame(apply(df, 2, sort))\n",
    "  df_mean <- apply(df_sorted, 1, mean)\n",
    "   \n",
    "  index_to_mean <- function(my_index, my_mean){\n",
    "    return(my_mean[my_index])\n",
    "  }\n",
    "   \n",
    "  df_final <- apply(df_rank, 2, index_to_mean, my_mean=df_mean)\n",
    "  rownames(df_final) <- rownames(df)\n",
    "  return(df_final)\n",
    "}\n",
    "\n",
    "#test the function\n",
    "df <- data.frame(one=c(5,2,3,4),\n",
    "                 two=c(4,1,4,2),\n",
    "                 three=c(3,4,6,8)\n",
    "                 )\n",
    "rownames(df) <- toupper(letters[1:4])\n",
    " \n",
    "quantile_normalisation(df)"
   ]
  },
  {
   "cell_type": "code",
   "execution_count": 42,
   "metadata": {},
   "outputs": [],
   "source": [
    "Exprdata=lapply(Exprfile, readRDS)\n",
    "Exprdata=lapply(Exprdata, t)"
   ]
  },
  {
   "cell_type": "code",
   "execution_count": 43,
   "metadata": {},
   "outputs": [
    {
     "data": {
      "text/html": [
       "<ol class=list-inline>\n",
       "\t<li>'TNFRSF11A'</li>\n",
       "\t<li>'EPHB6'</li>\n",
       "\t<li>'SOCS5'</li>\n",
       "\t<li>'TIMP1'</li>\n",
       "\t<li>'IL15RA'</li>\n",
       "\t<li>'Type'</li>\n",
       "</ol>\n"
      ],
      "text/latex": [
       "\\begin{enumerate*}\n",
       "\\item 'TNFRSF11A'\n",
       "\\item 'EPHB6'\n",
       "\\item 'SOCS5'\n",
       "\\item 'TIMP1'\n",
       "\\item 'IL15RA'\n",
       "\\item 'Type'\n",
       "\\end{enumerate*}\n"
      ],
      "text/markdown": [
       "1. 'TNFRSF11A'\n",
       "2. 'EPHB6'\n",
       "3. 'SOCS5'\n",
       "4. 'TIMP1'\n",
       "5. 'IL15RA'\n",
       "6. 'Type'\n",
       "\n",
       "\n"
      ],
      "text/plain": [
       "[1] \"TNFRSF11A\" \"EPHB6\"     \"SOCS5\"     \"TIMP1\"     \"IL15RA\"    \"Type\"     "
      ]
     },
     "metadata": {},
     "output_type": "display_data"
    },
    {
     "data": {
      "text/html": [
       "<ol class=list-inline>\n",
       "\t<li>10912</li>\n",
       "\t<li>1079</li>\n",
       "</ol>\n"
      ],
      "text/latex": [
       "\\begin{enumerate*}\n",
       "\\item 10912\n",
       "\\item 1079\n",
       "\\end{enumerate*}\n"
      ],
      "text/markdown": [
       "1. 10912\n",
       "2. 1079\n",
       "\n",
       "\n"
      ],
      "text/plain": [
       "[1] 10912  1079"
      ]
     },
     "metadata": {},
     "output_type": "display_data"
    }
   ],
   "source": [
    "for (i in 1:length(Exprdata)) {\n",
    "  Exprdata[[i]] = as.data.frame(Exprdata[[i]])\n",
    "  Exprdata[[i]] = Exprdata[[i]][,colnames(Exprdata[[i]]) %in% GeneMarkers]\n",
    "#   Exprdata[[i]] = quantile_normalisation(Exprdata[[i]])\n",
    "  Exprdata[[i]]=data.frame(as.data.frame(Exprdata[[i]]),Type=as.character(Typename[i]))\n",
    "  dim(Exprdata[[i]])\n",
    "}\n",
    "GeneExpr=do.call(rbind,Exprdata)\n",
    "tail(colnames(GeneExpr))\n",
    "dim(GeneExpr)"
   ]
  },
  {
   "cell_type": "code",
   "execution_count": 44,
   "metadata": {},
   "outputs": [
    {
     "data": {
      "text/html": [
       "<ol class=list-inline>\n",
       "\t<li>'TNFRSF11A'</li>\n",
       "\t<li>'EPHB6'</li>\n",
       "\t<li>'SOCS5'</li>\n",
       "\t<li>'TIMP1'</li>\n",
       "\t<li>'IL15RA'</li>\n",
       "\t<li>'Type'</li>\n",
       "</ol>\n"
      ],
      "text/latex": [
       "\\begin{enumerate*}\n",
       "\\item 'TNFRSF11A'\n",
       "\\item 'EPHB6'\n",
       "\\item 'SOCS5'\n",
       "\\item 'TIMP1'\n",
       "\\item 'IL15RA'\n",
       "\\item 'Type'\n",
       "\\end{enumerate*}\n"
      ],
      "text/markdown": [
       "1. 'TNFRSF11A'\n",
       "2. 'EPHB6'\n",
       "3. 'SOCS5'\n",
       "4. 'TIMP1'\n",
       "5. 'IL15RA'\n",
       "6. 'Type'\n",
       "\n",
       "\n"
      ],
      "text/plain": [
       "[1] \"TNFRSF11A\" \"EPHB6\"     \"SOCS5\"     \"TIMP1\"     \"IL15RA\"    \"Type\"     "
      ]
     },
     "metadata": {},
     "output_type": "display_data"
    },
    {
     "data": {
      "text/html": [
       "<ol class=list-inline>\n",
       "\t<li>10912</li>\n",
       "\t<li>1051</li>\n",
       "</ol>\n"
      ],
      "text/latex": [
       "\\begin{enumerate*}\n",
       "\\item 10912\n",
       "\\item 1051\n",
       "\\end{enumerate*}\n"
      ],
      "text/markdown": [
       "1. 10912\n",
       "2. 1051\n",
       "\n",
       "\n"
      ],
      "text/plain": [
       "[1] 10912  1051"
      ]
     },
     "metadata": {},
     "output_type": "display_data"
    }
   ],
   "source": [
    "# remove genes with 0 expression\n",
    "typelist <- GeneExpr$Type\n",
    "medians <- apply(GeneExpr[,1:(ncol(GeneExpr)-1)], 2, median)\n",
    "zero.medians <- which(medians == 0)\n",
    "GeneExpr <- GeneExpr[, -zero.medians]\n",
    "GeneExpr[,1:(ncol(GeneExpr)-1)] <- GeneExpr[,1:(ncol(GeneExpr)-1)] + 1\n",
    "GeneExpr$Type <- typelist\n",
    "tail(colnames(GeneExpr))\n",
    "dim(GeneExpr)"
   ]
  },
  {
   "cell_type": "code",
   "execution_count": 45,
   "metadata": {},
   "outputs": [
    {
     "data": {
      "text/html": [
       "0"
      ],
      "text/latex": [
       "0"
      ],
      "text/markdown": [
       "0"
      ],
      "text/plain": [
       "[1] 0"
      ]
     },
     "metadata": {},
     "output_type": "display_data"
    }
   ],
   "source": [
    "sum(is.na(GeneExpr))"
   ]
  },
  {
   "cell_type": "code",
   "execution_count": 46,
   "metadata": {},
   "outputs": [
    {
     "data": {
      "text/html": [
       "<ol class=list-inline>\n",
       "\t<li>10912</li>\n",
       "\t<li>1054</li>\n",
       "</ol>\n"
      ],
      "text/latex": [
       "\\begin{enumerate*}\n",
       "\\item 10912\n",
       "\\item 1054\n",
       "\\end{enumerate*}\n"
      ],
      "text/markdown": [
       "1. 10912\n",
       "2. 1054\n",
       "\n",
       "\n"
      ],
      "text/plain": [
       "[1] 10912  1054"
      ]
     },
     "metadata": {},
     "output_type": "display_data"
    },
    {
     "data": {
      "text/html": [
       "<ol class=list-inline>\n",
       "\t<li>'TIMP1'</li>\n",
       "\t<li>'IL15RA'</li>\n",
       "\t<li>'Type'</li>\n",
       "\t<li>'sample'</li>\n",
       "\t<li>'survive'</li>\n",
       "\t<li>'vital_status'</li>\n",
       "</ol>\n"
      ],
      "text/latex": [
       "\\begin{enumerate*}\n",
       "\\item 'TIMP1'\n",
       "\\item 'IL15RA'\n",
       "\\item 'Type'\n",
       "\\item 'sample'\n",
       "\\item 'survive'\n",
       "\\item 'vital\\_status'\n",
       "\\end{enumerate*}\n"
      ],
      "text/markdown": [
       "1. 'TIMP1'\n",
       "2. 'IL15RA'\n",
       "3. 'Type'\n",
       "4. 'sample'\n",
       "5. 'survive'\n",
       "6. 'vital_status'\n",
       "\n",
       "\n"
      ],
      "text/plain": [
       "[1] \"TIMP1\"        \"IL15RA\"       \"Type\"         \"sample\"       \"survive\"     \n",
       "[6] \"vital_status\""
      ]
     },
     "metadata": {},
     "output_type": "display_data"
    },
    {
     "data": {
      "text/html": [
       "<ol class=list-inline>\n",
       "\t<li>'PFN2'</li>\n",
       "\t<li>'IL32'</li>\n",
       "\t<li>'KRT1'</li>\n",
       "\t<li>'UPP1'</li>\n",
       "\t<li>'KCNE4'</li>\n",
       "\t<li>'FCGR2B'</li>\n",
       "</ol>\n"
      ],
      "text/latex": [
       "\\begin{enumerate*}\n",
       "\\item 'PFN2'\n",
       "\\item 'IL32'\n",
       "\\item 'KRT1'\n",
       "\\item 'UPP1'\n",
       "\\item 'KCNE4'\n",
       "\\item 'FCGR2B'\n",
       "\\end{enumerate*}\n"
      ],
      "text/markdown": [
       "1. 'PFN2'\n",
       "2. 'IL32'\n",
       "3. 'KRT1'\n",
       "4. 'UPP1'\n",
       "5. 'KCNE4'\n",
       "6. 'FCGR2B'\n",
       "\n",
       "\n"
      ],
      "text/plain": [
       "[1] \"PFN2\"   \"IL32\"   \"KRT1\"   \"UPP1\"   \"KCNE4\"  \"FCGR2B\""
      ]
     },
     "metadata": {},
     "output_type": "display_data"
    }
   ],
   "source": [
    "#all TCGA barcode is 16 in geneexpress data, but the dbarcode in clinical data is 12\n",
    "GeneExpr$sample <- substr(rownames(GeneExpr),1,12)\n",
    "\n",
    "Expr_ClinData <- left_join(GeneExpr,Clinicaldata_sub,by=c('sample' = 'bcr_patient_barcode'))\n",
    "dim(Expr_ClinData)\n",
    "tail(colnames(Expr_ClinData))\n",
    "head(colnames(Expr_ClinData))"
   ]
  },
  {
   "cell_type": "code",
   "execution_count": 47,
   "metadata": {},
   "outputs": [
    {
     "data": {
      "text/html": [
       "<ol class=list-inline>\n",
       "\t<li>10815</li>\n",
       "\t<li>1054</li>\n",
       "</ol>\n"
      ],
      "text/latex": [
       "\\begin{enumerate*}\n",
       "\\item 10815\n",
       "\\item 1054\n",
       "\\end{enumerate*}\n"
      ],
      "text/markdown": [
       "1. 10815\n",
       "2. 1054\n",
       "\n",
       "\n"
      ],
      "text/plain": [
       "[1] 10815  1054"
      ]
     },
     "metadata": {},
     "output_type": "display_data"
    }
   ],
   "source": [
    "# remove rows with no survival information\n",
    "data <- Expr_ClinData[!is.na(Expr_ClinData[,'survive']),]\n",
    "dim(data)"
   ]
  },
  {
   "cell_type": "code",
   "execution_count": 48,
   "metadata": {},
   "outputs": [],
   "source": [
    "# normalize survival for each cancer type\n",
    "data <- data %>% \n",
    "    group_by(Type) %>% \n",
    "    mutate(survive = (survive / max(survive, na.rm=T)))"
   ]
  },
  {
   "cell_type": "code",
   "execution_count": 49,
   "metadata": {},
   "outputs": [],
   "source": [
    "# for GSEA\n",
    "# gsea <- "
   ]
  },
  {
   "cell_type": "code",
   "execution_count": 50,
   "metadata": {},
   "outputs": [],
   "source": [
    "# scale between 0-1000 for survival days to see if it can fix gradients\n",
    "# data$survive <- data$survive*1000"
   ]
  },
  {
   "cell_type": "code",
   "execution_count": 51,
   "metadata": {},
   "outputs": [],
   "source": [
    "# remove not needed columns\n",
    "data <- data[, -which(names(data) %in% c(\"sample\",\"Type\"))]"
   ]
  },
  {
   "cell_type": "code",
   "execution_count": 52,
   "metadata": {},
   "outputs": [
    {
     "data": {
      "text/html": [
       "<ol class=list-inline>\n",
       "\t<li>10815</li>\n",
       "\t<li>1052</li>\n",
       "</ol>\n"
      ],
      "text/latex": [
       "\\begin{enumerate*}\n",
       "\\item 10815\n",
       "\\item 1052\n",
       "\\end{enumerate*}\n"
      ],
      "text/markdown": [
       "1. 10815\n",
       "2. 1052\n",
       "\n",
       "\n"
      ],
      "text/plain": [
       "[1] 10815  1052"
      ]
     },
     "metadata": {},
     "output_type": "display_data"
    }
   ],
   "source": [
    "dim(data)"
   ]
  },
  {
   "cell_type": "code",
   "execution_count": 53,
   "metadata": {},
   "outputs": [
    {
     "data": {
      "image/png": "[encoded data removed]",
      "text/plain": [
       "Plot with title “Histogram of means”"
      ]
     },
     "metadata": {},
     "output_type": "display_data"
    }
   ],
   "source": [
    "means <- apply(data[1:(ncol(data)-2)], 2, mean)\n",
    "hist(means)"
   ]
  },
  {
   "cell_type": "code",
   "execution_count": 54,
   "metadata": {},
   "outputs": [],
   "source": [
    "# write.table(data,file = 'Expr_ClinData_marker_normalized.txt',sep = '\\t')"
   ]
  },
  {
   "cell_type": "code",
   "execution_count": 55,
   "metadata": {},
   "outputs": [],
   "source": [
    "TrainingData=sample(1:nrow(data),replace = F,size = 0.8*nrow(data))\n",
    "tmp=setdiff(1:nrow(data),TrainingData)\n",
    "TestData=sample(tmp,replace = F,size =0.1*nrow(data))\n",
    "EvalData=setdiff(tmp,TestData)\n",
    "TrainingData=data[TrainingData,]\n",
    "TestData=data[TestData,]\n",
    "EvalData=data[EvalData,]\n",
    "\n",
    "savepath = '/home/pzs2/capstone/proj/TCGA_LiuLab/pancancer_all_immune/'\n",
    "\n",
    "write.table(EvalData,file = paste0(savepath,'EvalData.txt'),sep = '\\t', row.names = F, quote = F)\n",
    "write.table(TestData,file = paste0(savepath,'TestData.txt'),sep = '\\t',row.names = F, quote = F)\n",
    "write.table(TrainingData,file = paste0(savepath,'TrainingData.txt'),sep = '\\t',row.names = F, quote = F)\n",
    "genes <- colnames(data)\n",
    "genes <- genes[1:(length(genes) -2)]\n",
    "write.table(genes, file=paste0(savepath,'geneset.txt'),row.names = F, quote = F)"
   ]
  },
  {
   "cell_type": "code",
   "execution_count": null,
   "metadata": {},
   "outputs": [],
   "source": []
  },
  {
   "cell_type": "code",
   "execution_count": null,
   "metadata": {},
   "outputs": [],
   "source": []
  }
 ],
 "metadata": {
  "kernelspec": {
   "display_name": "R",
   "language": "R",
   "name": "ir"
  },
  "language_info": {
   "codemirror_mode": "r",
   "file_extension": ".r",
   "mimetype": "text/x-r-source",
   "name": "R",
   "pygments_lexer": "r",
   "version": "3.4.1"
  }
 },
 "nbformat": 4,
 "nbformat_minor": 2
}
