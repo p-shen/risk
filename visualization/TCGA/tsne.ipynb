{
 "cells": [
  {
   "cell_type": "code",
   "execution_count": 1,
   "metadata": {},
   "outputs": [],
   "source": [
    "import numpy as np\n",
    "import pandas as pd"
   ]
  },
  {
   "cell_type": "markdown",
   "metadata": {},
   "source": [
    "# Evaludate CI On Trained Survival Model"
   ]
  },
  {
   "cell_type": "code",
   "execution_count": 2,
   "metadata": {},
   "outputs": [],
   "source": [
    "data = pd.read_csv(\"/home/pzs2/capstone/proj/risk/visualization/TCGA/data/genentech_processed.tsv\", sep=\"\\t\")\n",
    "clinical = pd.read_csv(\"./data/genentech_processed.labels.tsv\", sep=\"\\t\")"
   ]
  },
  {
   "cell_type": "code",
   "execution_count": 3,
   "metadata": {},
   "outputs": [
    {
     "name": "stderr",
     "output_type": "stream",
     "text": [
      "Using TensorFlow backend.\n"
     ]
    }
   ],
   "source": [
    "from keras.models import load_model\n",
    "from keras import backend as K\n",
    "import tensorflow as tf\n",
    "\n",
    "def negative_log_partial_likelihood(censor, risk):\n",
    "    \"\"\"Return the negative log-partial likelihood of the prediction\n",
    "    y_true contains the survival time\n",
    "    risk is the risk output from the neural network\n",
    "    censor is the vector of inputs that are censored\n",
    "    regularization is the regularization constant (not used currently in model)\n",
    "\n",
    "    Uses the Keras backend to perform calculations\n",
    "\n",
    "    Sorts the surv_time by sorted reverse time\n",
    "    \"\"\"\n",
    "\n",
    "    # calculate negative log likelihood from estimated risk\n",
    "    epsilon = 0.001\n",
    "    risk = K.reshape(risk, [-1])  # flatten\n",
    "    hazard_ratio = K.exp(risk)\n",
    "\n",
    "    # cumsum on sorted surv time accounts for concordance\n",
    "    log_risk = K.log(tf.cumsum(hazard_ratio)+epsilon)\n",
    "    log_risk = K.reshape(log_risk, [-1])\n",
    "    uncensored_likelihood = risk - log_risk\n",
    "\n",
    "    # apply censor mask: 1 - dead, 0 - censor\n",
    "    censored_likelihood = uncensored_likelihood * censor\n",
    "    num_observed_events = K.sum(censor)\n",
    "    neg_likelihood = - K.sum(censored_likelihood) / \\\n",
    "        tf.cast(num_observed_events, tf.float32)\n",
    "\n",
    "    return neg_likelihood"
   ]
  },
  {
   "cell_type": "code",
   "execution_count": 4,
   "metadata": {},
   "outputs": [],
   "source": [
    "from lifelines.utils import concordance_index\n",
    "\n",
    "def concordance_metric(survival_time, predicted_risk, censor):\n",
    "    # calculate the concordance index\n",
    "    epsilon = 0.001\n",
    "    partial_hazard = np.exp(-(predicted_risk+epsilon)).flatten()\n",
    "    censor = censor.astype(int)\n",
    "    ci = concordance_index(survival_time, partial_hazard, censor)\n",
    "    return ci\n",
    "\n",
    "OS = clinical[['OS']].values.flatten()\n",
    "event = clinical[['Event']].values.flatten()"
   ]
  },
  {
   "cell_type": "code",
   "execution_count": 6,
   "metadata": {},
   "outputs": [
    {
     "name": "stdout",
     "output_type": "stream",
     "text": [
      "File: /home/pzs2/capstone/models/surv_immune_xfer_10_28__00_47/surv/checkpoint.0350.hdf5, CI: 0.494954838457\n"
     ]
    },
    {
     "name": "stderr",
     "output_type": "stream",
     "text": [
      "/home/pzs2/keras/lib/python2.7/site-packages/ipykernel_launcher.py:7: RuntimeWarning: overflow encountered in exp\n",
      "  import sys\n"
     ]
    }
   ],
   "source": [
    "files = [\"/home/pzs2/capstone/models/surv_immune_xfer_10_28__00_47/surv/checkpoint.0350.hdf5\"]\n",
    "\n",
    "for hdf5 in files:\n",
    "    surv_model = load_model(hdf5, custom_objects={\n",
    "                                            'negative_log_partial_likelihood': negative_log_partial_likelihood})\n",
    "    predictions = surv_model.predict(data)\n",
    "    ci = concordance_metric(OS, np.exp(predictions), event)\n",
    "    print(\"File: {}, CI: {}\".format(hdf5, ci))"
   ]
  },
  {
   "cell_type": "markdown",
   "metadata": {},
   "source": [
    "# Transfer Learning"
   ]
  },
  {
   "cell_type": "code",
   "execution_count": 92,
   "metadata": {},
   "outputs": [],
   "source": [
    "surv_path = \"/home/pzs2/capstone/models/surv_immune_xfer_10_28__20_10/surv/checkpoint.0380.hdf5\"\n",
    "pd_path = \"/home/pzs2/capstone/models/surv_immune_xfer_10_28__20_10/immune/genes.hdf5\""
   ]
  },
  {
   "cell_type": "code",
   "execution_count": 93,
   "metadata": {},
   "outputs": [],
   "source": [
    "from sklearn.model_selection import train_test_split\n",
    "from imblearn.over_sampling import SMOTE\n",
    "\n",
    "# read in datasets\n",
    "data = pd.read_csv(\"/home/pzs2/capstone/proj/risk/visualization/TCGA/data/genentech_processed.tsv\", sep=\"\\t\")\n",
    "clinical = pd.read_csv(\"./data/genentech_processed.labels.tsv\", sep=\"\\t\")\n",
    "\n",
    "# parse out features and labels\n",
    "labels = clinical[['Event']].values.ravel()\n",
    "data = data.values\n",
    "\n",
    "# sample from shuffled dataset\n",
    "x_train, x_val, y_train, y_val = train_test_split(X, y, test_size=0.20, stratify=y)\n",
    "\n",
    "\n",
    "# Upsample\n",
    "sm = SMOTE(random_state=12, ratio = 1.0)\n",
    "x_train, y_train = sm.fit_sample(x_train, y_train)\n",
    "x_val, y_val = sm.fit_sample(x_val, y_val)\n",
    "\n",
    "def shuffle(X, y):\n",
    "    shuffle_indices = np.random.permutation(np.arange(len(y)))\n",
    "    X = X[shuffle_indices,:]\n",
    "    y = y[shuffle_indices]\n",
    "    return X,y\n",
    "\n",
    "x_train, y_train = shuffle(x_train, y_train)\n",
    "x_val, y_val = shuffle(x_val, y_val)\n",
    "\n",
    "# Turn labels into categorical values\n",
    "y_train_cat = np.append(y_train.reshape([-1,1]), np.abs(y_train - 1).reshape([-1,1]), axis=1)\n",
    "y_val_cat = np.append(y_val.reshape([-1,1]), np.abs(y_val - 1).reshape([-1,1]), axis=1)"
   ]
  },
  {
   "cell_type": "markdown",
   "metadata": {},
   "source": [
    "## Model From Scratch"
   ]
  },
  {
   "cell_type": "code",
   "execution_count": 156,
   "metadata": {},
   "outputs": [
    {
     "name": "stdout",
     "output_type": "stream",
     "text": [
      "Train on 290 samples, validate on 74 samples\n",
      "Epoch 1/100\n",
      "290/290 [==============================] - 32s 110ms/step - loss: 2096608.5341 - acc: 0.5586 - ce: 0.6740 - val_loss: 1271607.3780 - val_acc: 0.5946 - val_ce: 0.6837\n",
      "Epoch 2/100\n",
      "290/290 [==============================] - 0s 415us/step - loss: 973661.2515 - acc: 0.6724 - ce: 0.6316 - val_loss: 731971.9231 - val_acc: 0.5135 - val_ce: 0.7169\n",
      "Epoch 3/100\n",
      "290/290 [==============================] - 0s 429us/step - loss: 651495.4081 - acc: 0.6724 - ce: 0.5973 - val_loss: 444325.7033 - val_acc: 0.6892 - val_ce: 0.6037\n",
      "Epoch 4/100\n",
      "290/290 [==============================] - 0s 430us/step - loss: 393248.4249 - acc: 0.7345 - ce: 0.5363 - val_loss: 362774.3709 - val_acc: 0.5676 - val_ce: 0.7172\n",
      "Epoch 5/100\n",
      "290/290 [==============================] - 0s 425us/step - loss: 292173.9898 - acc: 0.7621 - ce: 0.4739 - val_loss: 229689.8331 - val_acc: 0.6486 - val_ce: 0.6298\n",
      "Epoch 6/100\n",
      "290/290 [==============================] - 0s 424us/step - loss: 196344.4247 - acc: 0.8034 - ce: 0.4429 - val_loss: 185880.9544 - val_acc: 0.6081 - val_ce: 0.6941\n",
      "Epoch 7/100\n",
      "290/290 [==============================] - 0s 430us/step - loss: 147860.4377 - acc: 0.8069 - ce: 0.4491 - val_loss: 134212.7183 - val_acc: 0.6486 - val_ce: 0.6136\n",
      "Epoch 8/100\n",
      "290/290 [==============================] - 0s 436us/step - loss: 108096.5479 - acc: 0.8690 - ce: 0.3315 - val_loss: 111910.6043 - val_acc: 0.6351 - val_ce: 0.7164\n",
      "Epoch 9/100\n",
      "290/290 [==============================] - 0s 422us/step - loss: 83465.0192 - acc: 0.8690 - ce: 0.3127 - val_loss: 99608.6325 - val_acc: 0.5676 - val_ce: 1.1627\n",
      "Epoch 10/100\n",
      "290/290 [==============================] - 0s 426us/step - loss: 67138.7751 - acc: 0.9069 - ce: 0.2535 - val_loss: 82689.2115 - val_acc: 0.5946 - val_ce: 0.9113\n",
      "Epoch 11/100\n",
      "290/290 [==============================] - 0s 424us/step - loss: 54787.6582 - acc: 0.9483 - ce: 0.1486 - val_loss: 77413.6894 - val_acc: 0.6081 - val_ce: 0.9062\n",
      "Epoch 12/100\n",
      "290/290 [==============================] - 0s 428us/step - loss: 46416.6842 - acc: 0.9552 - ce: 0.1260 - val_loss: 67750.3067 - val_acc: 0.6081 - val_ce: 0.9564\n",
      "Epoch 13/100\n",
      "290/290 [==============================] - 0s 430us/step - loss: 40290.3605 - acc: 0.9828 - ce: 0.0728 - val_loss: 60388.1386 - val_acc: 0.5676 - val_ce: 1.4941\n",
      "Epoch 14/100\n",
      "290/290 [==============================] - 0s 423us/step - loss: 34803.9793 - acc: 0.9586 - ce: 0.0961 - val_loss: 58022.7540 - val_acc: 0.6081 - val_ce: 1.3263\n",
      "Epoch 15/100\n",
      "290/290 [==============================] - 0s 436us/step - loss: 30996.1079 - acc: 0.9793 - ce: 0.0595 - val_loss: 53941.1318 - val_acc: 0.5946 - val_ce: 1.2864\n",
      "Epoch 16/100\n",
      "290/290 [==============================] - 0s 428us/step - loss: 27648.2585 - acc: 0.9862 - ce: 0.0529 - val_loss: 51078.1678 - val_acc: 0.5676 - val_ce: 1.4239\n",
      "Epoch 17/100\n",
      "290/290 [==============================] - 0s 425us/step - loss: 24356.8308 - acc: 0.9862 - ce: 0.0430 - val_loss: 48607.0167 - val_acc: 0.5541 - val_ce: 1.7054\n",
      "Epoch 18/100\n",
      "290/290 [==============================] - 0s 426us/step - loss: 22845.4157 - acc: 0.9931 - ce: 0.0149 - val_loss: 47072.8668 - val_acc: 0.6622 - val_ce: 1.4097\n",
      "Epoch 19/100\n",
      "290/290 [==============================] - 0s 423us/step - loss: 20929.8287 - acc: 0.9897 - ce: 0.0270 - val_loss: 44694.0354 - val_acc: 0.6216 - val_ce: 2.1193\n",
      "Epoch 20/100\n",
      "290/290 [==============================] - 0s 430us/step - loss: 19371.0671 - acc: 0.9931 - ce: 0.0327 - val_loss: 42104.1847 - val_acc: 0.6081 - val_ce: 1.9525\n",
      "Epoch 21/100\n",
      "290/290 [==============================] - 0s 431us/step - loss: 17640.8647 - acc: 0.9931 - ce: 0.0187 - val_loss: 41357.9671 - val_acc: 0.6622 - val_ce: 1.3423\n",
      "Epoch 22/100\n",
      "290/290 [==============================] - 0s 425us/step - loss: 16534.0327 - acc: 0.9862 - ce: 0.0453 - val_loss: 39331.5351 - val_acc: 0.6622 - val_ce: 1.4982\n",
      "Epoch 23/100\n",
      "290/290 [==============================] - 0s 434us/step - loss: 15396.0021 - acc: 0.9897 - ce: 0.0386 - val_loss: 38793.2600 - val_acc: 0.6892 - val_ce: 1.4634\n",
      "Epoch 24/100\n",
      "290/290 [==============================] - 0s 421us/step - loss: 14523.3471 - acc: 0.9862 - ce: 0.0542 - val_loss: 37976.4984 - val_acc: 0.6216 - val_ce: 2.1259\n",
      "Epoch 25/100\n",
      "290/290 [==============================] - 0s 426us/step - loss: 13963.3102 - acc: 0.9690 - ce: 0.1327 - val_loss: 36831.0001 - val_acc: 0.7568 - val_ce: 1.3384\n",
      "Epoch 26/100\n",
      "290/290 [==============================] - 0s 429us/step - loss: 12658.8703 - acc: 0.9517 - ce: 0.1338 - val_loss: 36118.5301 - val_acc: 0.6486 - val_ce: 1.5244\n",
      "Epoch 27/100\n",
      "290/290 [==============================] - 0s 432us/step - loss: 12199.0443 - acc: 0.9517 - ce: 0.1469 - val_loss: 34900.4016 - val_acc: 0.6351 - val_ce: 1.8161\n",
      "Epoch 28/100\n",
      "290/290 [==============================] - 0s 436us/step - loss: 11556.8324 - acc: 0.9690 - ce: 0.0842 - val_loss: 34236.9825 - val_acc: 0.6216 - val_ce: 1.1571\n",
      "Epoch 29/100\n",
      "290/290 [==============================] - 0s 429us/step - loss: 10935.7864 - acc: 0.9690 - ce: 0.0864 - val_loss: 33026.2041 - val_acc: 0.7027 - val_ce: 1.0134\n",
      "Epoch 30/100\n",
      "290/290 [==============================] - 0s 430us/step - loss: 10311.5291 - acc: 0.9862 - ce: 0.0557 - val_loss: 32448.0199 - val_acc: 0.7027 - val_ce: 0.8909\n",
      "Epoch 31/100\n",
      "290/290 [==============================] - 0s 428us/step - loss: 10008.5482 - acc: 0.9759 - ce: 0.0747 - val_loss: 31535.8885 - val_acc: 0.7162 - val_ce: 0.8468\n",
      "Epoch 32/100\n",
      "290/290 [==============================] - 0s 398us/step - loss: 9434.2120 - acc: 0.9828 - ce: 0.0490 - val_loss: 31322.0909 - val_acc: 0.6081 - val_ce: 1.2159\n",
      "Epoch 33/100\n",
      "290/290 [==============================] - 0s 420us/step - loss: 8907.3483 - acc: 0.9862 - ce: 0.0341 - val_loss: 30693.5266 - val_acc: 0.7162 - val_ce: 0.9094\n",
      "Epoch 34/100\n",
      "290/290 [==============================] - 0s 440us/step - loss: 8656.5866 - acc: 0.9897 - ce: 0.0358 - val_loss: 30070.8872 - val_acc: 0.7162 - val_ce: 0.9563\n",
      "Epoch 35/100\n",
      "290/290 [==============================] - 0s 407us/step - loss: 8103.9169 - acc: 0.9931 - ce: 0.0172 - val_loss: 29544.9790 - val_acc: 0.7838 - val_ce: 1.0605\n",
      "Epoch 36/100\n",
      "290/290 [==============================] - 0s 420us/step - loss: 7772.2407 - acc: 0.9966 - ce: 0.0210 - val_loss: 29104.7215 - val_acc: 0.7568 - val_ce: 0.9936\n",
      "Epoch 37/100\n",
      "290/290 [==============================] - 0s 425us/step - loss: 7507.1184 - acc: 0.9862 - ce: 0.0440 - val_loss: 28608.3461 - val_acc: 0.6892 - val_ce: 1.1388\n",
      "Epoch 38/100\n",
      "290/290 [==============================] - 0s 438us/step - loss: 7134.4540 - acc: 0.9793 - ce: 0.0579 - val_loss: 28020.5384 - val_acc: 0.6757 - val_ce: 1.4994\n",
      "Epoch 39/100\n",
      "290/290 [==============================] - 0s 448us/step - loss: 6870.4879 - acc: 0.9966 - ce: 0.0165 - val_loss: 27892.5172 - val_acc: 0.7162 - val_ce: 1.1296\n",
      "Epoch 40/100\n",
      "290/290 [==============================] - 0s 446us/step - loss: 6956.1471 - acc: 0.9759 - ce: 0.0544 - val_loss: 27906.0342 - val_acc: 0.7297 - val_ce: 1.1109\n",
      "Epoch 41/100\n",
      "290/290 [==============================] - 0s 451us/step - loss: 6689.1441 - acc: 0.9793 - ce: 0.0711 - val_loss: 27378.2883 - val_acc: 0.7027 - val_ce: 1.8380\n",
      "Epoch 42/100\n",
      "290/290 [==============================] - 0s 442us/step - loss: 6579.2784 - acc: 0.9586 - ce: 0.1219 - val_loss: 27806.2875 - val_acc: 0.7027 - val_ce: 0.9726\n",
      "Epoch 43/100\n",
      "290/290 [==============================] - 0s 422us/step - loss: 6481.4019 - acc: 0.9828 - ce: 0.0492 - val_loss: 27007.6758 - val_acc: 0.6892 - val_ce: 1.0234\n",
      "Epoch 44/100\n",
      "290/290 [==============================] - 0s 412us/step - loss: 6124.2058 - acc: 0.9828 - ce: 0.0540 - val_loss: 27088.9610 - val_acc: 0.7162 - val_ce: 1.1668\n",
      "Epoch 45/100\n",
      "290/290 [==============================] - 0s 413us/step - loss: 6128.1400 - acc: 0.9828 - ce: 0.0697 - val_loss: 26568.4354 - val_acc: 0.7297 - val_ce: 1.1294\n",
      "Epoch 46/100\n",
      "290/290 [==============================] - 0s 414us/step - loss: 5917.7881 - acc: 0.9724 - ce: 0.0577 - val_loss: 25997.2421 - val_acc: 0.6757 - val_ce: 1.3569\n",
      "Epoch 47/100\n",
      "290/290 [==============================] - 0s 412us/step - loss: 5865.6277 - acc: 0.9862 - ce: 0.0408 - val_loss: 25973.4501 - val_acc: 0.6622 - val_ce: 1.2589\n"
     ]
    },
    {
     "name": "stdout",
     "output_type": "stream",
     "text": [
      "Epoch 48/100\n",
      "290/290 [==============================] - 0s 399us/step - loss: 5819.2446 - acc: 0.9931 - ce: 0.0263 - val_loss: 25633.1575 - val_acc: 0.7162 - val_ce: 1.0818\n",
      "Epoch 49/100\n",
      "290/290 [==============================] - 0s 403us/step - loss: 5825.8251 - acc: 0.9931 - ce: 0.0367 - val_loss: 26461.4702 - val_acc: 0.6486 - val_ce: 1.2418\n",
      "Epoch 50/100\n",
      "290/290 [==============================] - 0s 424us/step - loss: 6002.4022 - acc: 0.9862 - ce: 0.0271 - val_loss: 25947.6742 - val_acc: 0.6757 - val_ce: 1.4677\n",
      "Epoch 51/100\n",
      "290/290 [==============================] - 0s 423us/step - loss: 5643.4010 - acc: 0.9966 - ce: 0.0170 - val_loss: 26892.4140 - val_acc: 0.6486 - val_ce: 1.3777\n",
      "Epoch 52/100\n",
      "290/290 [==============================] - 0s 436us/step - loss: 6026.0370 - acc: 0.9828 - ce: 0.0512 - val_loss: 27677.2206 - val_acc: 0.6892 - val_ce: 1.5097\n",
      "Epoch 53/100\n",
      "290/290 [==============================] - 0s 437us/step - loss: 7197.5757 - acc: 0.9759 - ce: 0.0679 - val_loss: 31045.6643 - val_acc: 0.6757 - val_ce: 2.2028\n",
      "Epoch 54/100\n",
      "290/290 [==============================] - 0s 428us/step - loss: 8245.8113 - acc: 0.9552 - ce: 0.1225 - val_loss: 27594.4649 - val_acc: 0.6757 - val_ce: 2.0103\n",
      "Epoch 55/100\n",
      "290/290 [==============================] - 0s 431us/step - loss: 7081.6751 - acc: 0.9690 - ce: 0.1348 - val_loss: 24666.0406 - val_acc: 0.6622 - val_ce: 1.3649\n",
      "Epoch 56/100\n",
      "290/290 [==============================] - 0s 436us/step - loss: 5314.1553 - acc: 0.9759 - ce: 0.0824 - val_loss: 24324.8201 - val_acc: 0.7162 - val_ce: 1.2858\n",
      "Epoch 57/100\n",
      "290/290 [==============================] - 0s 430us/step - loss: 4777.7923 - acc: 0.9759 - ce: 0.0695 - val_loss: 24527.7072 - val_acc: 0.7432 - val_ce: 1.1029\n",
      "Epoch 58/100\n",
      "290/290 [==============================] - 0s 430us/step - loss: 5019.0722 - acc: 0.9793 - ce: 0.0675 - val_loss: 24879.9800 - val_acc: 0.7703 - val_ce: 1.2145\n",
      "Epoch 59/100\n",
      "290/290 [==============================] - 0s 426us/step - loss: 4705.3518 - acc: 0.9931 - ce: 0.0297 - val_loss: 26253.1835 - val_acc: 0.7568 - val_ce: 1.2735\n",
      "Epoch 60/100\n",
      "290/290 [==============================] - 0s 435us/step - loss: 5072.3702 - acc: 0.9828 - ce: 0.0585 - val_loss: 24579.6954 - val_acc: 0.7973 - val_ce: 1.2951\n",
      "Epoch 61/100\n",
      "290/290 [==============================] - 0s 434us/step - loss: 4833.8037 - acc: 0.9793 - ce: 0.0424 - val_loss: 24943.8145 - val_acc: 0.7297 - val_ce: 1.7658\n",
      "Epoch 62/100\n",
      "290/290 [==============================] - 0s 433us/step - loss: 4993.3881 - acc: 0.9828 - ce: 0.0301 - val_loss: 25057.4896 - val_acc: 0.6622 - val_ce: 2.1569\n",
      "Epoch 63/100\n",
      "290/290 [==============================] - 0s 430us/step - loss: 5134.6829 - acc: 0.9828 - ce: 0.0394 - val_loss: 23724.7269 - val_acc: 0.6757 - val_ce: 2.3433\n",
      "Epoch 64/100\n",
      "290/290 [==============================] - 0s 432us/step - loss: 4597.2682 - acc: 0.9828 - ce: 0.0489 - val_loss: 23837.7516 - val_acc: 0.5946 - val_ce: 2.6195\n",
      "Epoch 65/100\n",
      "290/290 [==============================] - 0s 438us/step - loss: 4409.6481 - acc: 0.9793 - ce: 0.0406 - val_loss: 23376.6110 - val_acc: 0.6486 - val_ce: 2.7209\n",
      "Epoch 66/100\n",
      "290/290 [==============================] - 0s 434us/step - loss: 4051.5789 - acc: 0.9862 - ce: 0.0276 - val_loss: 22501.4912 - val_acc: 0.6757 - val_ce: 2.1801\n",
      "Epoch 67/100\n",
      "290/290 [==============================] - 0s 433us/step - loss: 4070.6473 - acc: 0.9897 - ce: 0.0343 - val_loss: 22602.7358 - val_acc: 0.7297 - val_ce: 2.1817\n",
      "Epoch 68/100\n",
      "290/290 [==============================] - 0s 435us/step - loss: 3829.6879 - acc: 0.9862 - ce: 0.0493 - val_loss: 22951.2388 - val_acc: 0.7703 - val_ce: 1.7547\n",
      "Epoch 69/100\n",
      "290/290 [==============================] - 0s 430us/step - loss: 3497.5521 - acc: 0.9931 - ce: 0.0259 - val_loss: 22526.6379 - val_acc: 0.7838 - val_ce: 1.4657\n",
      "Epoch 70/100\n",
      "290/290 [==============================] - 0s 438us/step - loss: 3270.5685 - acc: 0.9828 - ce: 0.0709 - val_loss: 21125.6230 - val_acc: 0.7973 - val_ce: 1.3857\n",
      "Epoch 71/100\n",
      "290/290 [==============================] - 0s 442us/step - loss: 2934.3395 - acc: 0.9759 - ce: 0.0678 - val_loss: 20650.1662 - val_acc: 0.8108 - val_ce: 1.3737\n",
      "Epoch 72/100\n",
      "290/290 [==============================] - 0s 440us/step - loss: 2794.0468 - acc: 0.9690 - ce: 0.1035 - val_loss: 20234.5574 - val_acc: 0.7973 - val_ce: 1.2121\n",
      "Epoch 73/100\n",
      "290/290 [==============================] - 0s 442us/step - loss: 2661.5110 - acc: 0.9793 - ce: 0.0436 - val_loss: 19967.2281 - val_acc: 0.8243 - val_ce: 1.2311\n",
      "Epoch 74/100\n",
      "290/290 [==============================] - 0s 438us/step - loss: 2593.9115 - acc: 0.9828 - ce: 0.0514 - val_loss: 20355.3747 - val_acc: 0.7838 - val_ce: 1.2860\n",
      "Epoch 75/100\n",
      "290/290 [==============================] - 0s 435us/step - loss: 2614.3035 - acc: 0.9897 - ce: 0.0359 - val_loss: 19962.6459 - val_acc: 0.7838 - val_ce: 1.5447\n",
      "Epoch 76/100\n",
      "290/290 [==============================] - 0s 430us/step - loss: 2554.7261 - acc: 0.9897 - ce: 0.0459 - val_loss: 20100.9973 - val_acc: 0.7432 - val_ce: 1.7759\n",
      "Epoch 77/100\n",
      "290/290 [==============================] - 0s 423us/step - loss: 2585.3954 - acc: 0.9897 - ce: 0.0293 - val_loss: 19762.5267 - val_acc: 0.7027 - val_ce: 1.7873\n",
      "Epoch 78/100\n",
      "290/290 [==============================] - 0s 433us/step - loss: 2353.2321 - acc: 0.9966 - ce: 0.0147 - val_loss: 19508.1978 - val_acc: 0.7432 - val_ce: 1.7846\n",
      "Epoch 79/100\n",
      "290/290 [==============================] - 0s 441us/step - loss: 2376.1903 - acc: 0.9793 - ce: 0.0475 - val_loss: 19171.4779 - val_acc: 0.7162 - val_ce: 2.0485\n",
      "Epoch 80/100\n",
      "290/290 [==============================] - 0s 447us/step - loss: 2195.7452 - acc: 0.9931 - ce: 0.0409 - val_loss: 19609.7005 - val_acc: 0.7162 - val_ce: 2.3000\n",
      "Epoch 81/100\n",
      "290/290 [==============================] - 0s 448us/step - loss: 2299.9588 - acc: 0.9828 - ce: 0.0357 - val_loss: 19801.6932 - val_acc: 0.7568 - val_ce: 1.9955\n",
      "Epoch 82/100\n",
      "290/290 [==============================] - 0s 449us/step - loss: 2372.6765 - acc: 0.9897 - ce: 0.0614 - val_loss: 19286.9654 - val_acc: 0.7838 - val_ce: 1.7703\n",
      "Epoch 83/100\n",
      "290/290 [==============================] - 0s 447us/step - loss: 2427.9582 - acc: 0.9793 - ce: 0.0611 - val_loss: 19376.3536 - val_acc: 0.7838 - val_ce: 1.7589\n",
      "Epoch 84/100\n",
      "290/290 [==============================] - 0s 450us/step - loss: 2354.4734 - acc: 0.9724 - ce: 0.0888 - val_loss: 19023.6077 - val_acc: 0.7838 - val_ce: 1.7048\n",
      "Epoch 85/100\n",
      "290/290 [==============================] - 0s 449us/step - loss: 2185.6867 - acc: 0.9655 - ce: 0.0776 - val_loss: 18231.5293 - val_acc: 0.8108 - val_ce: 1.5842\n",
      "Epoch 86/100\n",
      "290/290 [==============================] - 0s 449us/step - loss: 1966.0566 - acc: 0.9931 - ce: 0.0455 - val_loss: 18262.7206 - val_acc: 0.7027 - val_ce: 1.6677\n",
      "Epoch 87/100\n",
      "290/290 [==============================] - 0s 446us/step - loss: 1795.7373 - acc: 0.9897 - ce: 0.0331 - val_loss: 18189.9908 - val_acc: 0.7027 - val_ce: 2.1057\n",
      "Epoch 88/100\n",
      "290/290 [==============================] - 0s 444us/step - loss: 1797.7148 - acc: 0.9793 - ce: 0.0418 - val_loss: 18250.2742 - val_acc: 0.7162 - val_ce: 2.2681\n",
      "Epoch 89/100\n",
      "290/290 [==============================] - 0s 441us/step - loss: 1903.2912 - acc: 0.9862 - ce: 0.0335 - val_loss: 18458.0709 - val_acc: 0.7838 - val_ce: 2.1100\n",
      "Epoch 90/100\n",
      "290/290 [==============================] - 0s 443us/step - loss: 1997.3102 - acc: 0.9862 - ce: 0.0339 - val_loss: 18927.5919 - val_acc: 0.7432 - val_ce: 2.3121\n",
      "Epoch 91/100\n",
      "290/290 [==============================] - 0s 429us/step - loss: 2059.3345 - acc: 0.9759 - ce: 0.0877 - val_loss: 19605.9831 - val_acc: 0.7297 - val_ce: 2.0694\n",
      "Epoch 92/100\n",
      "290/290 [==============================] - 0s 436us/step - loss: 2556.5033 - acc: 0.9897 - ce: 0.0555 - val_loss: 20195.7725 - val_acc: 0.7568 - val_ce: 2.0421\n",
      "Epoch 93/100\n",
      "290/290 [==============================] - 0s 434us/step - loss: 2936.8572 - acc: 0.9690 - ce: 0.0678 - val_loss: 21116.1063 - val_acc: 0.6757 - val_ce: 1.9432\n",
      "Epoch 94/100\n",
      "290/290 [==============================] - 0s 437us/step - loss: 3282.1232 - acc: 0.9621 - ce: 0.0952 - val_loss: 20488.5908 - val_acc: 0.6892 - val_ce: 2.3033\n",
      "Epoch 95/100\n"
     ]
    },
    {
     "name": "stdout",
     "output_type": "stream",
     "text": [
      "290/290 [==============================] - 0s 430us/step - loss: 2657.2909 - acc: 0.9690 - ce: 0.0742 - val_loss: 18983.6613 - val_acc: 0.7162 - val_ce: 2.2730\n",
      "Epoch 96/100\n",
      "290/290 [==============================] - 0s 435us/step - loss: 2470.5072 - acc: 0.9552 - ce: 0.0804 - val_loss: 19168.5995 - val_acc: 0.7162 - val_ce: 2.1254\n",
      "Epoch 97/100\n",
      "290/290 [==============================] - 0s 430us/step - loss: 2402.7699 - acc: 0.9862 - ce: 0.0652 - val_loss: 18804.1666 - val_acc: 0.6892 - val_ce: 2.2434\n",
      "Epoch 98/100\n",
      "290/290 [==============================] - 0s 428us/step - loss: 2642.4064 - acc: 0.9931 - ce: 0.0337 - val_loss: 19069.9842 - val_acc: 0.7297 - val_ce: 2.4255\n",
      "Epoch 99/100\n",
      "290/290 [==============================] - 0s 441us/step - loss: 3084.5306 - acc: 0.9759 - ce: 0.0538 - val_loss: 21066.9698 - val_acc: 0.5405 - val_ce: 4.0757\n",
      "Epoch 100/100\n",
      "290/290 [==============================] - 0s 447us/step - loss: 3495.2076 - acc: 0.9586 - ce: 0.1796 - val_loss: 23371.3854 - val_acc: 0.7027 - val_ce: 2.1810\n",
      "290/290 [==============================] - 0s 427us/step\n",
      "74/74 [==============================] - 0s 520us/step\n",
      "LR: 0.0007, Training: [3938.684118652344, 0.7275862068965517, 1.126614404365356], Eval: [11828.453824429898, 0.7027027027027027, 2.1810272291705415]\n"
     ]
    }
   ],
   "source": [
    "from keras.models import Sequential, Model, load_model\n",
    "import keras.layers as layers\n",
    "from keras import regularizers\n",
    "\n",
    "model = Sequential()\n",
    "model.add(layers.Dense(128, input_dim=x_train.shape[1],\n",
    "                       kernel_regularizer=regularizers.l2(0.01),\n",
    "                       activity_regularizer=regularizers.l2(0.01)))\n",
    "model.add(layers.BatchNormalization())\n",
    "\n",
    "model.add(layers.Dense(128, activation=\"relu\"))\n",
    "model.add(layers.BatchNormalization())\n",
    "model.add(layers.Dense(64, activation=\"relu\"))\n",
    "model.add(layers.Dense(64, activation=\"relu\"))\n",
    "model.add(layers.Dense(32, activation=\"relu\"))\n",
    "model.add(layers.Dense(32, activation=\"relu\"))\n",
    "model.add(layers.Dense(1, activation='sigmoid'))\n",
    "\n",
    "opt = Adam(lr=0.005)\n",
    "\n",
    "model.compile(optimizer=opt, loss='binary_crossentropy', metrics=['accuracy', 'ce'])\n",
    "\n",
    "model.fit(x_train, y_train,\n",
    "          batch_size=64,\n",
    "          epochs=100,\n",
    "          validation_data=(x_val, y_val))\n",
    "\n",
    "print(\"LR: {}, Training: {}, Eval: {}\".format(lr, \n",
    "                                                  model.evaluate(x=x_train, y=y_train), \n",
    "                                                  model.evaluate(x=x_val, y=y_val)))"
   ]
  },
  {
   "cell_type": "markdown",
   "metadata": {},
   "source": [
    "## Just On Survival"
   ]
  },
  {
   "cell_type": "code",
   "execution_count": 94,
   "metadata": {},
   "outputs": [
    {
     "name": "stdout",
     "output_type": "stream",
     "text": [
      "Counter({0: 145, 1: 145})\n",
      "Counter({0: 37, 1: 37})\n"
     ]
    }
   ],
   "source": [
    "import collections\n",
    "print(collections.Counter(y_train))\n",
    "print(collections.Counter(y_val))"
   ]
  },
  {
   "cell_type": "code",
   "execution_count": 143,
   "metadata": {},
   "outputs": [
    {
     "name": "stdout",
     "output_type": "stream",
     "text": [
      "Train on 290 samples, validate on 74 samples\n",
      "Epoch 1/100\n",
      "290/290 [==============================] - 30s 103ms/step - loss: 800181.9262 - acc: 0.5310 - ce: 0.7206 - val_loss: 506078.2321 - val_acc: 0.5135 - val_ce: 0.7503\n",
      "Epoch 2/100\n",
      "290/290 [==============================] - 0s 380us/step - loss: 366975.3267 - acc: 0.5690 - ce: 0.6813 - val_loss: 392947.1464 - val_acc: 0.5000 - val_ce: 0.8246\n",
      "Epoch 3/100\n",
      "290/290 [==============================] - 0s 367us/step - loss: 272105.3079 - acc: 0.5793 - ce: 0.6793 - val_loss: 271018.7662 - val_acc: 0.4595 - val_ce: 0.7739\n",
      "Epoch 4/100\n",
      "290/290 [==============================] - 0s 378us/step - loss: 202472.5354 - acc: 0.6586 - ce: 0.6307 - val_loss: 159885.5456 - val_acc: 0.4730 - val_ce: 0.7536\n",
      "Epoch 5/100\n",
      "290/290 [==============================] - 0s 375us/step - loss: 142154.2123 - acc: 0.6897 - ce: 0.6208 - val_loss: 90040.7507 - val_acc: 0.5541 - val_ce: 0.7931\n",
      "Epoch 6/100\n",
      "290/290 [==============================] - 0s 367us/step - loss: 92467.9668 - acc: 0.6655 - ce: 0.6088 - val_loss: 69252.9855 - val_acc: 0.6081 - val_ce: 0.6957\n",
      "Epoch 7/100\n",
      "290/290 [==============================] - 0s 381us/step - loss: 59451.4392 - acc: 0.7172 - ce: 0.5631 - val_loss: 55520.5221 - val_acc: 0.6351 - val_ce: 0.6341\n",
      "Epoch 8/100\n",
      "290/290 [==============================] - 0s 373us/step - loss: 39865.1075 - acc: 0.7345 - ce: 0.5189 - val_loss: 44492.0958 - val_acc: 0.5811 - val_ce: 1.0390\n",
      "Epoch 9/100\n",
      "290/290 [==============================] - 0s 384us/step - loss: 30053.1382 - acc: 0.7655 - ce: 0.4931 - val_loss: 34176.4338 - val_acc: 0.7027 - val_ce: 0.6130\n",
      "Epoch 10/100\n",
      "290/290 [==============================] - 0s 379us/step - loss: 22351.0830 - acc: 0.7966 - ce: 0.4446 - val_loss: 28076.7613 - val_acc: 0.5946 - val_ce: 1.2657\n",
      "Epoch 11/100\n",
      "290/290 [==============================] - 0s 367us/step - loss: 17912.1907 - acc: 0.8862 - ce: 0.3293 - val_loss: 28231.8353 - val_acc: 0.5946 - val_ce: 1.0988\n",
      "Epoch 12/100\n",
      "290/290 [==============================] - 0s 383us/step - loss: 15346.1559 - acc: 0.8621 - ce: 0.2882 - val_loss: 24689.4731 - val_acc: 0.6892 - val_ce: 0.8840\n",
      "Epoch 13/100\n",
      "290/290 [==============================] - 0s 368us/step - loss: 13513.0040 - acc: 0.9414 - ce: 0.1802 - val_loss: 23404.4361 - val_acc: 0.5811 - val_ce: 1.9258\n",
      "Epoch 14/100\n",
      "290/290 [==============================] - 0s 380us/step - loss: 11057.1050 - acc: 0.9414 - ce: 0.1706 - val_loss: 21048.8988 - val_acc: 0.6081 - val_ce: 1.6602\n",
      "Epoch 15/100\n",
      "290/290 [==============================] - 0s 377us/step - loss: 10303.3845 - acc: 0.9483 - ce: 0.1508 - val_loss: 17856.7405 - val_acc: 0.6081 - val_ce: 1.3592\n",
      "Epoch 16/100\n",
      "290/290 [==============================] - 0s 370us/step - loss: 8104.8906 - acc: 0.9621 - ce: 0.1074 - val_loss: 16439.0169 - val_acc: 0.5946 - val_ce: 1.4345\n",
      "Epoch 17/100\n",
      "290/290 [==============================] - 0s 377us/step - loss: 7039.1807 - acc: 0.9690 - ce: 0.0970 - val_loss: 14951.7945 - val_acc: 0.7162 - val_ce: 0.8816\n",
      "Epoch 18/100\n",
      "290/290 [==============================] - 0s 368us/step - loss: 6337.1507 - acc: 0.9759 - ce: 0.0775 - val_loss: 14608.1645 - val_acc: 0.6081 - val_ce: 1.4906\n",
      "Epoch 19/100\n",
      "290/290 [==============================] - 0s 380us/step - loss: 5896.5927 - acc: 0.9448 - ce: 0.1578 - val_loss: 14562.8487 - val_acc: 0.7027 - val_ce: 0.9860\n",
      "Epoch 20/100\n",
      "290/290 [==============================] - 0s 395us/step - loss: 5267.1078 - acc: 0.9690 - ce: 0.1067 - val_loss: 13697.5127 - val_acc: 0.6622 - val_ce: 1.3247\n",
      "Epoch 21/100\n",
      "290/290 [==============================] - 0s 375us/step - loss: 4992.8772 - acc: 0.9759 - ce: 0.0784 - val_loss: 13523.3917 - val_acc: 0.6757 - val_ce: 1.0704\n",
      "Epoch 22/100\n",
      "290/290 [==============================] - 0s 386us/step - loss: 4606.4564 - acc: 0.9862 - ce: 0.0642 - val_loss: 12492.9093 - val_acc: 0.6622 - val_ce: 1.3242\n",
      "Epoch 23/100\n",
      "290/290 [==============================] - 0s 391us/step - loss: 4346.3084 - acc: 0.9552 - ce: 0.1434 - val_loss: 12441.8654 - val_acc: 0.6757 - val_ce: 1.2241\n",
      "Epoch 24/100\n",
      "290/290 [==============================] - 0s 368us/step - loss: 4088.5887 - acc: 0.9724 - ce: 0.0685 - val_loss: 12758.8792 - val_acc: 0.6622 - val_ce: 1.0709\n",
      "Epoch 25/100\n",
      "290/290 [==============================] - 0s 376us/step - loss: 3844.3221 - acc: 0.9724 - ce: 0.0822 - val_loss: 12073.3604 - val_acc: 0.6622 - val_ce: 1.0121\n",
      "Epoch 26/100\n",
      "290/290 [==============================] - 0s 372us/step - loss: 3656.9955 - acc: 0.9793 - ce: 0.0472 - val_loss: 11568.1115 - val_acc: 0.6757 - val_ce: 1.3044\n",
      "Epoch 27/100\n",
      "290/290 [==============================] - 0s 372us/step - loss: 3371.5035 - acc: 0.9655 - ce: 0.0618 - val_loss: 11853.6347 - val_acc: 0.6486 - val_ce: 1.3495\n",
      "Epoch 28/100\n",
      "290/290 [==============================] - 0s 387us/step - loss: 3411.3414 - acc: 0.9793 - ce: 0.0995 - val_loss: 11668.8578 - val_acc: 0.6757 - val_ce: 1.1930\n",
      "Epoch 29/100\n",
      "290/290 [==============================] - 0s 375us/step - loss: 3215.6829 - acc: 0.9690 - ce: 0.0626 - val_loss: 11310.4874 - val_acc: 0.6216 - val_ce: 1.5056\n",
      "Epoch 30/100\n",
      "290/290 [==============================] - 0s 388us/step - loss: 3136.4644 - acc: 0.9759 - ce: 0.0700 - val_loss: 11510.1571 - val_acc: 0.7297 - val_ce: 0.6149\n",
      "Epoch 31/100\n",
      "290/290 [==============================] - 0s 393us/step - loss: 3279.4968 - acc: 0.9655 - ce: 0.1042 - val_loss: 13063.5609 - val_acc: 0.6622 - val_ce: 1.1269\n",
      "Epoch 32/100\n",
      "290/290 [==============================] - 0s 377us/step - loss: 3793.6621 - acc: 0.9862 - ce: 0.0633 - val_loss: 12231.9615 - val_acc: 0.5811 - val_ce: 2.2770\n",
      "Epoch 33/100\n",
      "290/290 [==============================] - 0s 392us/step - loss: 3510.2493 - acc: 0.9621 - ce: 0.1218 - val_loss: 11980.2247 - val_acc: 0.6892 - val_ce: 1.0789\n",
      "Epoch 34/100\n",
      "290/290 [==============================] - 0s 388us/step - loss: 3357.5035 - acc: 0.9655 - ce: 0.1111 - val_loss: 11781.7620 - val_acc: 0.7568 - val_ce: 0.7919\n",
      "Epoch 35/100\n",
      "290/290 [==============================] - 0s 381us/step - loss: 3103.8342 - acc: 0.9483 - ce: 0.1447 - val_loss: 10764.9826 - val_acc: 0.7162 - val_ce: 1.0177\n",
      "Epoch 36/100\n",
      "290/290 [==============================] - 0s 395us/step - loss: 2839.4547 - acc: 0.9759 - ce: 0.0871 - val_loss: 10536.1455 - val_acc: 0.7162 - val_ce: 0.9328\n",
      "Epoch 37/100\n",
      "290/290 [==============================] - 0s 379us/step - loss: 2736.1248 - acc: 0.9793 - ce: 0.0854 - val_loss: 10221.2999 - val_acc: 0.7838 - val_ce: 0.7600\n",
      "Epoch 38/100\n",
      "290/290 [==============================] - 0s 379us/step - loss: 2414.4243 - acc: 0.9897 - ce: 0.0315 - val_loss: 10101.9429 - val_acc: 0.7027 - val_ce: 1.0306\n",
      "Epoch 39/100\n",
      "290/290 [==============================] - 0s 385us/step - loss: 2801.8489 - acc: 0.9724 - ce: 0.0714 - val_loss: 10870.3055 - val_acc: 0.5405 - val_ce: 1.4311\n",
      "Epoch 40/100\n",
      "290/290 [==============================] - 0s 384us/step - loss: 2863.1149 - acc: 0.9793 - ce: 0.0558 - val_loss: 11992.9063 - val_acc: 0.5811 - val_ce: 1.7689\n",
      "Epoch 41/100\n",
      "290/290 [==============================] - 0s 376us/step - loss: 3455.1981 - acc: 0.9828 - ce: 0.0542 - val_loss: 13789.9338 - val_acc: 0.5405 - val_ce: 1.9608\n",
      "Epoch 42/100\n",
      "290/290 [==============================] - 0s 392us/step - loss: 4333.0808 - acc: 0.9828 - ce: 0.0425 - val_loss: 12582.4627 - val_acc: 0.4865 - val_ce: 1.6690\n",
      "Epoch 43/100\n",
      "290/290 [==============================] - 0s 385us/step - loss: 3683.0654 - acc: 0.9828 - ce: 0.0476 - val_loss: 12250.9794 - val_acc: 0.6622 - val_ce: 1.3309\n",
      "Epoch 44/100\n",
      "290/290 [==============================] - 0s 379us/step - loss: 3236.7193 - acc: 0.9897 - ce: 0.0346 - val_loss: 12300.1246 - val_acc: 0.6757 - val_ce: 1.4417\n",
      "Epoch 45/100\n",
      "290/290 [==============================] - 0s 385us/step - loss: 3509.2496 - acc: 0.9862 - ce: 0.0321 - val_loss: 10410.4583 - val_acc: 0.6892 - val_ce: 1.0739\n",
      "Epoch 46/100\n",
      "290/290 [==============================] - 0s 396us/step - loss: 2558.0911 - acc: 0.9862 - ce: 0.0358 - val_loss: 9541.7395 - val_acc: 0.6622 - val_ce: 1.2689\n",
      "Epoch 47/100\n",
      "290/290 [==============================] - 0s 369us/step - loss: 2030.0889 - acc: 0.9897 - ce: 0.0261 - val_loss: 8947.3441 - val_acc: 0.6622 - val_ce: 1.5699\n",
      "Epoch 48/100\n"
     ]
    },
    {
     "name": "stdout",
     "output_type": "stream",
     "text": [
      "290/290 [==============================] - 0s 378us/step - loss: 1803.2629 - acc: 0.9793 - ce: 0.0672 - val_loss: 8992.5839 - val_acc: 0.6622 - val_ce: 1.0807\n",
      "Epoch 49/100\n",
      "290/290 [==============================] - 0s 393us/step - loss: 1677.1909 - acc: 0.9828 - ce: 0.0552 - val_loss: 9170.8405 - val_acc: 0.6892 - val_ce: 1.2717\n",
      "Epoch 50/100\n",
      "290/290 [==============================] - 0s 362us/step - loss: 1655.3337 - acc: 0.9759 - ce: 0.0612 - val_loss: 8725.9980 - val_acc: 0.7838 - val_ce: 1.0056\n",
      "Epoch 51/100\n",
      "290/290 [==============================] - 0s 375us/step - loss: 1511.0176 - acc: 0.9862 - ce: 0.0448 - val_loss: 8552.9655 - val_acc: 0.7027 - val_ce: 1.2947\n",
      "Epoch 52/100\n",
      "290/290 [==============================] - 0s 367us/step - loss: 1465.9031 - acc: 0.9828 - ce: 0.0585 - val_loss: 8336.3003 - val_acc: 0.6757 - val_ce: 1.3992\n",
      "Epoch 53/100\n",
      "290/290 [==============================] - 0s 378us/step - loss: 1383.9969 - acc: 0.9724 - ce: 0.0594 - val_loss: 8626.0735 - val_acc: 0.6892 - val_ce: 1.1677\n",
      "Epoch 54/100\n",
      "290/290 [==============================] - 0s 369us/step - loss: 1372.9347 - acc: 0.9828 - ce: 0.0533 - val_loss: 9035.6559 - val_acc: 0.6622 - val_ce: 1.3473\n",
      "Epoch 55/100\n",
      "290/290 [==============================] - 0s 373us/step - loss: 1689.6790 - acc: 0.9828 - ce: 0.0661 - val_loss: 8824.6579 - val_acc: 0.7432 - val_ce: 1.0747\n",
      "Epoch 56/100\n",
      "290/290 [==============================] - 0s 377us/step - loss: 1533.8247 - acc: 0.9897 - ce: 0.0299 - val_loss: 8762.5688 - val_acc: 0.7432 - val_ce: 1.0835\n",
      "Epoch 57/100\n",
      "290/290 [==============================] - 0s 389us/step - loss: 1534.0566 - acc: 0.9897 - ce: 0.0507 - val_loss: 8310.8290 - val_acc: 0.7297 - val_ce: 1.2726\n",
      "Epoch 58/100\n",
      "290/290 [==============================] - 0s 382us/step - loss: 1818.6629 - acc: 0.9793 - ce: 0.0573 - val_loss: 8886.6409 - val_acc: 0.7973 - val_ce: 1.2639\n",
      "Epoch 59/100\n",
      "290/290 [==============================] - 0s 404us/step - loss: 2207.1239 - acc: 0.9828 - ce: 0.0628 - val_loss: 9731.2758 - val_acc: 0.5946 - val_ce: 2.9239\n",
      "Epoch 60/100\n",
      "290/290 [==============================] - 0s 381us/step - loss: 2493.9823 - acc: 0.9724 - ce: 0.0949 - val_loss: 12384.6796 - val_acc: 0.6081 - val_ce: 3.2393\n",
      "Epoch 61/100\n",
      "290/290 [==============================] - 0s 383us/step - loss: 3239.2656 - acc: 0.9828 - ce: 0.0772 - val_loss: 11031.8502 - val_acc: 0.6892 - val_ce: 1.4830\n",
      "Epoch 62/100\n",
      "290/290 [==============================] - 0s 366us/step - loss: 4250.9556 - acc: 0.9862 - ce: 0.0439 - val_loss: 13218.7045 - val_acc: 0.6757 - val_ce: 1.5084\n",
      "Epoch 63/100\n",
      "290/290 [==============================] - 0s 388us/step - loss: 5411.3258 - acc: 0.9931 - ce: 0.0248 - val_loss: 18876.9065 - val_acc: 0.7703 - val_ce: 1.1567\n",
      "Epoch 64/100\n",
      "290/290 [==============================] - 0s 368us/step - loss: 7409.2048 - acc: 0.9759 - ce: 0.0725 - val_loss: 21382.7517 - val_acc: 0.7973 - val_ce: 1.0638\n",
      "Epoch 65/100\n",
      "290/290 [==============================] - 0s 381us/step - loss: 9329.9683 - acc: 0.9793 - ce: 0.0610 - val_loss: 14733.6768 - val_acc: 0.7568 - val_ce: 1.5917\n",
      "Epoch 66/100\n",
      "290/290 [==============================] - 0s 378us/step - loss: 7184.9383 - acc: 0.9690 - ce: 0.1028 - val_loss: 16427.0288 - val_acc: 0.6486 - val_ce: 1.9191\n",
      "Epoch 67/100\n",
      "290/290 [==============================] - 0s 377us/step - loss: 6635.9324 - acc: 0.9759 - ce: 0.0910 - val_loss: 14235.2713 - val_acc: 0.6486 - val_ce: 2.5060\n",
      "Epoch 68/100\n",
      "290/290 [==============================] - 0s 382us/step - loss: 4802.4532 - acc: 0.9586 - ce: 0.1011 - val_loss: 9362.4126 - val_acc: 0.7703 - val_ce: 1.3261\n",
      "Epoch 69/100\n",
      "290/290 [==============================] - 0s 375us/step - loss: 3894.9821 - acc: 0.9862 - ce: 0.0510 - val_loss: 12614.9465 - val_acc: 0.7027 - val_ce: 1.4817\n",
      "Epoch 70/100\n",
      "290/290 [==============================] - 0s 364us/step - loss: 4597.9798 - acc: 0.9759 - ce: 0.0630 - val_loss: 9504.5123 - val_acc: 0.6892 - val_ce: 1.3160\n",
      "Epoch 71/100\n",
      "290/290 [==============================] - 0s 382us/step - loss: 2953.4074 - acc: 0.9724 - ce: 0.0841 - val_loss: 10302.9732 - val_acc: 0.6216 - val_ce: 1.6038\n",
      "Epoch 72/100\n",
      "290/290 [==============================] - 0s 372us/step - loss: 3037.9662 - acc: 0.9759 - ce: 0.0713 - val_loss: 11202.3757 - val_acc: 0.6757 - val_ce: 1.7323\n",
      "Epoch 73/100\n",
      "290/290 [==============================] - 0s 380us/step - loss: 3158.6579 - acc: 0.9621 - ce: 0.0972 - val_loss: 9999.3883 - val_acc: 0.7297 - val_ce: 1.3319\n",
      "Epoch 74/100\n",
      "290/290 [==============================] - 0s 377us/step - loss: 2616.7703 - acc: 0.9793 - ce: 0.1012 - val_loss: 8727.4017 - val_acc: 0.7703 - val_ce: 1.3521\n",
      "Epoch 75/100\n",
      "290/290 [==============================] - 0s 364us/step - loss: 2105.1258 - acc: 0.9724 - ce: 0.0820 - val_loss: 9865.3490 - val_acc: 0.7432 - val_ce: 1.4841\n",
      "Epoch 76/100\n",
      "290/290 [==============================] - 0s 381us/step - loss: 2387.7862 - acc: 0.9793 - ce: 0.0676 - val_loss: 9540.7508 - val_acc: 0.7568 - val_ce: 1.5509\n",
      "Epoch 77/100\n",
      "290/290 [==============================] - 0s 366us/step - loss: 2335.0956 - acc: 0.9759 - ce: 0.0668 - val_loss: 8950.9722 - val_acc: 0.7703 - val_ce: 1.4145\n",
      "Epoch 78/100\n",
      "290/290 [==============================] - 0s 378us/step - loss: 2043.0468 - acc: 0.9655 - ce: 0.1115 - val_loss: 8653.3507 - val_acc: 0.8108 - val_ce: 1.1298\n",
      "Epoch 79/100\n",
      "290/290 [==============================] - 0s 372us/step - loss: 1832.3159 - acc: 0.9759 - ce: 0.0586 - val_loss: 8032.3741 - val_acc: 0.7568 - val_ce: 1.3474\n",
      "Epoch 80/100\n",
      "290/290 [==============================] - 0s 375us/step - loss: 1462.9273 - acc: 0.9828 - ce: 0.0428 - val_loss: 7207.8949 - val_acc: 0.7703 - val_ce: 1.1942\n",
      "Epoch 81/100\n",
      "290/290 [==============================] - 0s 380us/step - loss: 1015.3590 - acc: 0.9862 - ce: 0.0481 - val_loss: 7176.5456 - val_acc: 0.7703 - val_ce: 1.2956\n",
      "Epoch 82/100\n",
      "290/290 [==============================] - 0s 373us/step - loss: 891.9110 - acc: 0.9828 - ce: 0.0622 - val_loss: 6911.5341 - val_acc: 0.7432 - val_ce: 1.4287\n",
      "Epoch 83/100\n",
      "290/290 [==============================] - 0s 379us/step - loss: 747.6095 - acc: 0.9759 - ce: 0.0734 - val_loss: 6815.6404 - val_acc: 0.7432 - val_ce: 1.4292\n",
      "Epoch 84/100\n",
      "290/290 [==============================] - 0s 375us/step - loss: 714.4749 - acc: 0.9828 - ce: 0.0432 - val_loss: 6726.0693 - val_acc: 0.7162 - val_ce: 1.6722\n",
      "Epoch 85/100\n",
      "290/290 [==============================] - 0s 371us/step - loss: 659.0417 - acc: 0.9931 - ce: 0.0304 - val_loss: 6617.5751 - val_acc: 0.7432 - val_ce: 1.7257\n",
      "Epoch 86/100\n",
      "290/290 [==============================] - 0s 365us/step - loss: 622.2257 - acc: 0.9759 - ce: 0.0751 - val_loss: 6802.5592 - val_acc: 0.7568 - val_ce: 1.9073\n",
      "Epoch 87/100\n",
      "290/290 [==============================] - 0s 375us/step - loss: 691.2062 - acc: 0.9759 - ce: 0.0635 - val_loss: 6596.2433 - val_acc: 0.7297 - val_ce: 1.7806\n",
      "Epoch 88/100\n",
      "290/290 [==============================] - 0s 377us/step - loss: 649.5772 - acc: 0.9897 - ce: 0.0489 - val_loss: 7040.9103 - val_acc: 0.7568 - val_ce: 1.7680\n",
      "Epoch 89/100\n",
      "290/290 [==============================] - 0s 367us/step - loss: 926.6947 - acc: 0.9931 - ce: 0.0242 - val_loss: 7411.1420 - val_acc: 0.7162 - val_ce: 1.6358\n",
      "Epoch 90/100\n",
      "290/290 [==============================] - 0s 374us/step - loss: 1410.8274 - acc: 0.9690 - ce: 0.0594 - val_loss: 8264.3098 - val_acc: 0.7027 - val_ce: 2.2398\n",
      "Epoch 91/100\n",
      "290/290 [==============================] - 0s 372us/step - loss: 2272.1757 - acc: 0.9931 - ce: 0.0326 - val_loss: 10281.3384 - val_acc: 0.6351 - val_ce: 2.7220\n",
      "Epoch 92/100\n",
      "290/290 [==============================] - 0s 400us/step - loss: 2561.5732 - acc: 0.9586 - ce: 0.1065 - val_loss: 8584.1488 - val_acc: 0.7027 - val_ce: 2.0985\n",
      "Epoch 93/100\n",
      "290/290 [==============================] - 0s 381us/step - loss: 2597.9117 - acc: 0.9793 - ce: 0.0648 - val_loss: 7328.9619 - val_acc: 0.5811 - val_ce: 2.8789\n",
      "Epoch 94/100\n",
      "290/290 [==============================] - 0s 383us/step - loss: 1900.8796 - acc: 0.9690 - ce: 0.0895 - val_loss: 10066.0678 - val_acc: 0.5946 - val_ce: 3.0838\n",
      "Epoch 95/100\n",
      "290/290 [==============================] - 0s 387us/step - loss: 2444.0711 - acc: 0.9862 - ce: 0.0542 - val_loss: 8979.7036 - val_acc: 0.6081 - val_ce: 2.9473\n"
     ]
    },
    {
     "name": "stdout",
     "output_type": "stream",
     "text": [
      "Epoch 96/100\n",
      "290/290 [==============================] - 0s 376us/step - loss: 2685.1114 - acc: 0.9483 - ce: 0.2024 - val_loss: 11614.8616 - val_acc: 0.5541 - val_ce: 3.0975\n",
      "Epoch 97/100\n",
      "290/290 [==============================] - 0s 381us/step - loss: 4004.3609 - acc: 0.9448 - ce: 0.1544 - val_loss: 10880.7079 - val_acc: 0.6486 - val_ce: 1.6732\n",
      "Epoch 98/100\n",
      "290/290 [==============================] - 0s 409us/step - loss: 3405.2287 - acc: 0.9586 - ce: 0.1105 - val_loss: 9264.8108 - val_acc: 0.7297 - val_ce: 1.2419\n",
      "Epoch 99/100\n",
      "290/290 [==============================] - 0s 374us/step - loss: 4566.5275 - acc: 0.9552 - ce: 0.1257 - val_loss: 11837.9576 - val_acc: 0.6757 - val_ce: 1.4585\n",
      "Epoch 100/100\n",
      "290/290 [==============================] - 0s 366us/step - loss: 4399.2817 - acc: 0.9586 - ce: 0.1342 - val_loss: 11696.5943 - val_acc: 0.7432 - val_ce: 1.1676\n"
     ]
    },
    {
     "data": {
      "text/plain": [
       "<keras.callbacks.History at 0xc1a22fd0>"
      ]
     },
     "execution_count": 143,
     "metadata": {},
     "output_type": "execute_result"
    }
   ],
   "source": [
    "from keras.models import Sequential, Model, load_model\n",
    "import keras.layers as layers\n",
    "from keras.optimizers import Adam\n",
    "\n",
    "surv_model = Sequential()\n",
    "surv_model = load_model(surv_path, custom_objects={\n",
    "                                            'negative_log_partial_likelihood': negative_log_partial_likelihood})\n",
    "\n",
    "# taking out the last layer layers\n",
    "surv_model.pop()\n",
    "surv_model.add(layers.Dense(1, activation=\"sigmoid\", name=\"surv_output\"))\n",
    "\n",
    "# freeze all the layers before the output layer\n",
    "# for layer in surv_model.layers[0:-2]:\n",
    "#     layer.trainable = False\n",
    "\n",
    "opt = Adam(lr=0.005)\n",
    "\n",
    "surv_model.compile(optimizer=opt, loss='binary_crossentropy', metrics=['accuracy', 'ce'])\n",
    "\n",
    "surv_model.fit(x_train, y_train,\n",
    "          batch_size=64,\n",
    "          epochs=100,\n",
    "          validation_data=(x_val, y_val))"
   ]
  },
  {
   "cell_type": "code",
   "execution_count": 144,
   "metadata": {},
   "outputs": [
    {
     "name": "stdout",
     "output_type": "stream",
     "text": [
      "74/74 [==============================] - 0s 674us/step\n"
     ]
    },
    {
     "data": {
      "text/plain": [
       "[5943.431069863809, 0.7432432448541796, 1.1675961452561456]"
      ]
     },
     "execution_count": 144,
     "metadata": {},
     "output_type": "execute_result"
    }
   ],
   "source": [
    "surv_model.evaluate(x=x_val, y=y_val)"
   ]
  },
  {
   "cell_type": "markdown",
   "metadata": {},
   "source": [
    "# Predicting with PD-1 / PD-L1 Layer"
   ]
  },
  {
   "cell_type": "code",
   "execution_count": 137,
   "metadata": {},
   "outputs": [
    {
     "name": "stdout",
     "output_type": "stream",
     "text": [
      "290/290 [==============================] - 11s 36ms/step\n",
      "74/74 [==============================] - 0s 383us/step\n",
      "LR: 0.003, Training: [1801.746461460508, 0.6172413793103448, 2.464968499130216], Eval: [4212.607707255595, 0.5810810794701448, 3.356396449578775]\n",
      "290/290 [==============================] - 11s 37ms/step\n",
      "74/74 [==============================] - 0s 389us/step\n",
      "LR: 0.002, Training: [603.3025790642048, 0.5724137931034483, 2.948080648857988], Eval: [3011.110888506915, 0.6891891908001255, 2.579863135879104]\n",
      "290/290 [==============================] - 11s 38ms/step\n",
      "74/74 [==============================] - 0s 398us/step\n",
      "LR: 0.001, Training: [477.40202889278015, 0.903448275862069, 0.25199364698010274], Eval: [3286.899282919394, 0.797297295686361, 1.5704056958894472]\n",
      "290/290 [==============================] - 11s 38ms/step\n",
      "74/74 [==============================] - 0s 364us/step\n",
      "LR: 0.0009, Training: [554.0246346835432, 0.8931034482758621, 0.3195891743590092], Eval: [3473.1921700142525, 0.7702702718812067, 2.0222114711194425]\n",
      "290/290 [==============================] - 11s 39ms/step\n",
      "74/74 [==============================] - 0s 396us/step\n",
      "LR: 0.0008, Training: [588.311933517456, 0.9793103448275862, 0.06515364013933415], Eval: [3524.9960096204604, 0.8648648632539285, 0.9608483580318657]\n",
      "290/290 [==============================] - 12s 40ms/step\n",
      "74/74 [==============================] - 0s 425us/step\n",
      "LR: 0.0007, Training: [703.6792642527613, 0.9862068965517241, 0.03945509220858843], Eval: [3759.3086531355575, 0.8243243259352606, 0.9404403680079693]\n"
     ]
    }
   ],
   "source": [
    "from keras.models import Sequential, Model\n",
    "import keras.layers as layers\n",
    "from keras.optimizers import Adam, SGD\n",
    "\n",
    "# surv_model = Sequential()\n",
    "# surv_model = load_model(pd_path)\n",
    "        \n",
    "lrs = [0.003, 0.002, 0.001, 0.0009, 0.0008, 0.0007]\n",
    "xfer_models = []\n",
    "\n",
    "for lr in lrs:\n",
    "    pd1_model = Sequential()\n",
    "    pd1_model = load_model(pd_path)\n",
    "    \n",
    "    # remove the last layer\n",
    "    pd1_model.pop()\n",
    "\n",
    "    # add sigmoid layer for categorical classification\n",
    "    pd1_model.add(layers.Dense(1, activation=\"sigmoid\", name=\"xfer_output\"))\n",
    "\n",
    "    # freeze all the layers before the output layer\n",
    "#     for layer in pd1_model.layers[0:3]:\n",
    "#         layer.trainable = False\n",
    "        \n",
    "    opt = Adam(lr=lr)\n",
    "    pd1_model.compile(optimizer=opt, loss='binary_crossentropy', metrics=['accuracy','ce'])\n",
    "\n",
    "    pd1_model.fit(x_train, \n",
    "                y_train,\n",
    "                batch_size=64,\n",
    "                epochs=100,\n",
    "                verbose=0)\n",
    "    print(\"LR: {}, Training: {}, Eval: {}\".format(lr, \n",
    "                                                  pd1_model.evaluate(x=x_train, y=y_train), \n",
    "                                                  pd1_model.evaluate(x=x_val, y=y_val)))\n",
    "    xfer_models.append(pd1_model)"
   ]
  },
  {
   "cell_type": "code",
   "execution_count": 130,
   "metadata": {},
   "outputs": [
    {
     "name": "stdout",
     "output_type": "stream",
     "text": [
      "(u'dense_1', False)\n",
      "(u'batch_normalization_1', False)\n",
      "(u'dense_2', False)\n",
      "(u'batch_normalization_2', False)\n",
      "(u'dense_3', True)\n",
      "(u'dense_4', True)\n",
      "(u'dense_5', True)\n",
      "(u'dense_6', True)\n",
      "(u'xfer_dense_output', True)\n",
      "('xfer_output', True)\n",
      "_________________________________________________________________\n",
      "Layer (type)                 Output Shape              Param #   \n",
      "=================================================================\n",
      "dense_1 (Dense)              (None, 128)               137856    \n",
      "_________________________________________________________________\n",
      "batch_normalization_1 (Batch (None, 128)               512       \n",
      "_________________________________________________________________\n",
      "dense_2 (Dense)              (None, 128)               16512     \n",
      "_________________________________________________________________\n",
      "batch_normalization_2 (Batch (None, 128)               512       \n",
      "_________________________________________________________________\n",
      "dense_3 (Dense)              (None, 64)                8256      \n",
      "_________________________________________________________________\n",
      "dense_4 (Dense)              (None, 64)                4160      \n",
      "_________________________________________________________________\n",
      "dense_5 (Dense)              (None, 32)                2080      \n",
      "_________________________________________________________________\n",
      "dense_6 (Dense)              (None, 32)                1056      \n",
      "_________________________________________________________________\n",
      "xfer_dense_output (Dense)    (None, 2)                 66        \n",
      "_________________________________________________________________\n",
      "xfer_output (Dense)          (None, 1)                 3         \n",
      "=================================================================\n",
      "Total params: 171,013\n",
      "Trainable params: 15,621\n",
      "Non-trainable params: 155,392\n",
      "_________________________________________________________________\n"
     ]
    }
   ],
   "source": [
    "for layer in pd1_model.layers:\n",
    "    print(layer.name, layer.trainable)\n",
    "pd1_model.summary()"
   ]
  },
  {
   "cell_type": "code",
   "execution_count": 157,
   "metadata": {},
   "outputs": [
    {
     "data": {
      "image/png": "[encoded data removed]",
      "text/plain": [
       "<Figure size 432x288 with 1 Axes>"
      ]
     },
     "metadata": {},
     "output_type": "display_data"
    }
   ],
   "source": [
    "from sklearn.metrics import roc_curve, auc\n",
    "\n",
    "predicted_events = np.round(model.predict(x_val)).flatten()\n",
    "\n",
    "fpr, tpr, threshold = roc_curve(y_val, predicted_events)\n",
    "roc_auc = auc(fpr, tpr)\n",
    "\n",
    "plt.title('Receiver Operating Characteristic')\n",
    "plt.plot(fpr, tpr, 'b', label = 'AUC = %0.2f' % roc_auc)\n",
    "plt.legend(loc = 'lower right')\n",
    "plt.plot([0, 1], [0, 1],'r--')\n",
    "plt.xlim([0, 1])\n",
    "plt.ylim([0, 1])\n",
    "plt.ylabel('True Positive Rate')\n",
    "plt.xlabel('False Positive Rate')\n",
    "plt.show()"
   ]
  },
  {
   "cell_type": "code",
   "execution_count": 145,
   "metadata": {},
   "outputs": [
    {
     "data": {
      "image/png": "[encoded data removed]",
      "text/plain": [
       "<Figure size 432x288 with 1 Axes>"
      ]
     },
     "metadata": {},
     "output_type": "display_data"
    }
   ],
   "source": [
    "from sklearn.metrics import roc_curve, auc\n",
    "\n",
    "predicted_events = np.round(xfer_models[-2].predict(x_val)).flatten()\n",
    "\n",
    "fpr_xfer, tpr_xfer, threshold = roc_curve(y_val, predicted_events)\n",
    "roc_auc_xfer = auc(fpr_xfer, tpr_xfer)\n",
    "\n",
    "plt.title('Receiver Operating Characteristic')\n",
    "plt.plot(fpr_xfer, tpr_xfer, 'b', label = 'AUC = %0.2f' % roc_auc_xfer)\n",
    "plt.legend(loc = 'lower right')\n",
    "plt.plot([0, 1], [0, 1],'r--')\n",
    "plt.xlim([0, 1])\n",
    "plt.ylim([0, 1])\n",
    "plt.ylabel('True Positive Rate')\n",
    "plt.xlabel('False Positive Rate')\n",
    "plt.show()"
   ]
  },
  {
   "cell_type": "code",
   "execution_count": 146,
   "metadata": {},
   "outputs": [
    {
     "data": {
      "image/png": "[encoded data removed]",
      "text/plain": [
       "<Figure size 432x288 with 1 Axes>"
      ]
     },
     "metadata": {},
     "output_type": "display_data"
    }
   ],
   "source": [
    "from sklearn.metrics import roc_curve, auc\n",
    "\n",
    "predicted_events = np.round(surv_model.predict(x_val)).flatten()\n",
    "\n",
    "fpr_surv, tpr_surv, threshold = roc_curve(y_val, predicted_events)\n",
    "roc_auc_surv = auc(fpr_surv, tpr_surv)\n",
    "\n",
    "plt.title('Receiver Operating Characteristic')\n",
    "plt.plot(fpr_surv, tpr_surv, 'b', label = 'AUC = %0.2f' % roc_auc_surv)\n",
    "plt.legend(loc = 'lower right')\n",
    "plt.plot([0, 1], [0, 1],'r--')\n",
    "plt.xlim([0, 1])\n",
    "plt.ylim([0, 1])\n",
    "plt.ylabel('True Positive Rate')\n",
    "plt.xlabel('False Positive Rate')\n",
    "plt.show()"
   ]
  },
  {
   "cell_type": "code",
   "execution_count": 158,
   "metadata": {},
   "outputs": [
    {
     "data": {
      "image/png": "[encoded data removed]",
      "text/plain": [
       "<Figure size 720x720 with 1 Axes>"
      ]
     },
     "metadata": {},
     "output_type": "display_data"
    }
   ],
   "source": [
    "# Plot all ROC curves\n",
    "plt.figure(figsize=(10, 10))\n",
    "plt.plot(fpr, tpr,\n",
    "         label='Randomized Model ROC curve (area = {0:0.2f})'\n",
    "               ''.format(roc_auc),\n",
    "         color='deeppink', linewidth=4)\n",
    "\n",
    "plt.plot(fpr_surv, tpr_surv,\n",
    "         label='Survival Transfer Learning ROC curve (area = {0:0.2f})'\n",
    "               ''.format(roc_auc_surv),\n",
    "         color='green', linewidth=4)\n",
    "\n",
    "plt.plot(fpr_xfer, tpr_xfer,\n",
    "         label='Survival + PD-1 / PD-L1 Transfer Learning ROC curve (area = {0:0.2f})'\n",
    "               ''.format(roc_auc_xfer),\n",
    "         color='cornflowerblue', linewidth=4)\n",
    "\n",
    "plt.plot([0, 1], [0, 1], 'k--', lw=lw)\n",
    "plt.xlim([0.0, 1.0])\n",
    "plt.ylim([0.0, 1.05])\n",
    "plt.xlabel('False Positive Rate')\n",
    "plt.ylabel('True Positive Rate')\n",
    "plt.title('Comparision Of Transfer Learning Models')\n",
    "plt.legend(loc=\"lower right\")\n",
    "plt.show()"
   ]
  },
  {
   "cell_type": "code",
   "execution_count": 159,
   "metadata": {},
   "outputs": [
    {
     "data": {
      "text/plain": [
       "array([[16.188902  , 13.356269  ,  0.41513726,  3.1575902 , 23.929192  ,\n",
       "         8.97793   , 21.214195  ,  4.226098  ,  0.        , 14.954628  ,\n",
       "        10.623936  ,  7.582971  ,  0.        , 26.318346  ,  3.4723864 ,\n",
       "        17.761963  ,  0.        ,  0.13591264, 12.516293  , 15.657808  ,\n",
       "         1.4874778 ,  9.362199  ,  0.        , 10.234187  ,  3.2789347 ,\n",
       "        10.295626  ,  4.6180897 ,  7.3251953 ,  0.        ,  0.        ,\n",
       "         1.4818314 ,  0.17672338],\n",
       "       [22.091087  , 18.835344  ,  0.        ,  1.3647884 , 22.908077  ,\n",
       "        11.345325  , 26.03316   ,  1.3807743 ,  0.        , 11.913835  ,\n",
       "         8.572492  ,  4.7681823 ,  0.        , 24.390676  ,  5.0957975 ,\n",
       "        16.37837   ,  0.        ,  7.312107  ,  9.3461075 , 19.77326   ,\n",
       "         0.        ,  6.397451  ,  0.        ,  8.338259  ,  7.170928  ,\n",
       "         6.298903  ,  0.8860994 ,  7.1498213 ,  0.        ,  0.        ,\n",
       "         3.5374463 ,  0.        ],\n",
       "       [18.185827  , 13.056443  ,  0.        ,  3.7724802 , 20.156315  ,\n",
       "         7.6963863 , 19.003141  ,  0.7251245 ,  0.        , 10.588907  ,\n",
       "         6.13026   ,  7.078339  ,  0.        , 20.131466  ,  4.5684648 ,\n",
       "        13.420364  ,  0.        ,  3.276386  ,  9.170828  , 14.549291  ,\n",
       "         1.0296525 ,  4.708403  ,  0.        ,  4.6935363 ,  3.235187  ,\n",
       "         6.9239554 ,  0.        ,  5.272619  ,  0.        ,  0.        ,\n",
       "         1.978078  ,  0.        ],\n",
       "       [21.110815  , 14.143174  ,  0.        ,  0.8437553 , 20.933697  ,\n",
       "        14.600628  , 17.802036  , 11.46911   ,  0.        ,  7.460495  ,\n",
       "         9.248443  , 10.102547  ,  0.        , 25.750805  ,  3.1805983 ,\n",
       "        14.605675  ,  0.        ,  0.        , 14.202415  , 20.652298  ,\n",
       "         5.418755  ,  4.551186  ,  0.        , 16.549234  ,  9.455641  ,\n",
       "         8.440224  ,  9.106695  ,  4.4476914 ,  0.        ,  0.        ,\n",
       "        11.50742   ,  0.        ]], dtype=float32)"
      ]
     },
     "execution_count": 159,
     "metadata": {},
     "output_type": "execute_result"
    }
   ],
   "source": [
    "pd1_model.pop()\n",
    "pd1_model.compile(optimizer=opt, loss='binary_crossentropy', metrics=['accuracy'])\n",
    "pd1_model.predict(x_val)[1:5,:]"
   ]
  },
  {
   "cell_type": "markdown",
   "metadata": {},
   "source": [
    "# t-SNE Visualization"
   ]
  },
  {
   "cell_type": "markdown",
   "metadata": {},
   "source": [
    "## Visualizing Survival Layer"
   ]
  },
  {
   "cell_type": "code",
   "execution_count": 171,
   "metadata": {},
   "outputs": [],
   "source": [
    "cancertypes = pd.read_csv(\"/home/pzs2/capstone/proj/TCGA_processed/pancancer_all_immune/cancer.type.train.txt\").iloc[:,0]\n",
    "data = pd.read_csv(\"/home/pzs2/capstone/proj/TCGA_processed/pancancer_all_immune/TrainingData.txt\", sep=\"\\t\")\n",
    "\n",
    "cancertypes = cancertypes.astype('category')\n",
    "cancer_categories = cancertypes.astype('category').cat.categories"
   ]
  },
  {
   "cell_type": "code",
   "execution_count": 172,
   "metadata": {},
   "outputs": [],
   "source": [
    "import random\n",
    "\n",
    "def get_random_color(pastel_factor = 0.5):\n",
    "    return [(x+pastel_factor)/(1.0+pastel_factor) for x in [random.uniform(0,1.0) for i in [1,2,3]]]\n",
    "\n",
    "def color_distance(c1,c2):\n",
    "    return sum([abs(x[0]-x[1]) for x in zip(c1,c2)])\n",
    "\n",
    "def generate_new_color(existing_colors,pastel_factor = 0.5):\n",
    "    max_distance = None\n",
    "    best_color = None\n",
    "    for i in range(0,100):\n",
    "        color = get_random_color(pastel_factor = pastel_factor)\n",
    "        if not existing_colors:\n",
    "            return color\n",
    "        best_distance = min([color_distance(color,c) for c in existing_colors])\n",
    "        if not max_distance or best_distance > max_distance:\n",
    "            max_distance = best_distance\n",
    "            best_color = color\n",
    "    return best_color\n",
    "\n",
    "colors = []\n",
    "\n",
    "for i in range(0,len(cancer_categories)):\n",
    "  colors.append(generate_new_color(colors,pastel_factor = 0.9))"
   ]
  },
  {
   "cell_type": "markdown",
   "metadata": {},
   "source": [
    "### Unnormalized Model"
   ]
  },
  {
   "cell_type": "code",
   "execution_count": null,
   "metadata": {},
   "outputs": [],
   "source": [
    "from keras.models import Sequential, Model, load_model\n",
    "import keras.layers as layers\n",
    "\n",
    "from matplotlib import pyplot as plt\n",
    "import seaborn as sns\n",
    "import time\n",
    "from sklearn.manifold import TSNE\n",
    "\n",
    "surv_model = Sequential()\n",
    "surv_model = load_model(\"/home/pzs2/capstone/models/no_norm_10_27__17_27/surv.hdf5\", custom_objects={\n",
    "                                            'negative_log_partial_likelihood': negative_log_partial_likelihood})\n",
    "\n",
    "# taking out the last layer layers\n",
    "surv_model.pop()\n",
    "\n",
    "predictions_type = surv_model.predict(data)\n",
    "\n",
    "tsne = TSNE(n_components=2, verbose=1, perplexity=10, n_iter=5000) # reduce perplexity?\n",
    "tsne_results = tsne.fit_transform(predictions_type)\n",
    "\n",
    "plt.figure(figsize=(12, 12))\n",
    "for i, c in zip(cancer_categories, colors, ):\n",
    "    plt.scatter(tsne_results[cancertypes == i, 0], tsne_results[cancertypes == i, 1], c=c, label=i)\n",
    "plt.legend()\n",
    "plt.show()"
   ]
  },
  {
   "cell_type": "markdown",
   "metadata": {},
   "source": [
    "### Normalized Model"
   ]
  },
  {
   "cell_type": "code",
   "execution_count": null,
   "metadata": {},
   "outputs": [],
   "source": [
    "from keras.models import Sequential, Model, load_model\n",
    "import keras.layers as layers\n",
    "\n",
    "from matplotlib import pyplot as plt\n",
    "import seaborn as sns\n",
    "import time\n",
    "from sklearn.manifold import TSNE\n",
    "\n",
    "surv_model = Sequential()\n",
    "surv_model = load_model(\"/home/pzs2/capstone/models/surv_immune_xfer_10_27__00_29/surv/checkpoint.0350.hdf5\", custom_objects={\n",
    "                                            'negative_log_partial_likelihood': negative_log_partial_likelihood})\n",
    "\n",
    "# taking out the last layer layers\n",
    "surv_model.pop()\n",
    "\n",
    "\n",
    "predictions_type = surv_model.predict(data)\n",
    "\n",
    "tsne = TSNE(n_components=2, verbose=1, perplexity=20, n_iter=5000)\n",
    "tsne_results = tsne.fit_transform(predictions_type)\n",
    "\n",
    "plt.figure(figsize=(12, 12))\n",
    "for i, c in zip(cancer_categories, colors, ):\n",
    "    plt.scatter(tsne_results[cancertypes == i, 0], tsne_results[cancertypes == i, 1], c=c, label=i)\n",
    "plt.legend()\n",
    "plt.show()"
   ]
  },
  {
   "cell_type": "code",
   "execution_count": 165,
   "metadata": {},
   "outputs": [],
   "source": [
    "from keras.models import save_model\n",
    "\n",
    "save_model(model, \"model/random.hdf5\")\n",
    "save_model(surv_model, \"model/surv_xfer.hdf5\")\n",
    "save_model(xfer_models[-2], \"model/pd_xfer.hdf5\")"
   ]
  },
  {
   "cell_type": "markdown",
   "metadata": {},
   "source": [
    "## Visualizing Genentech Survival"
   ]
  },
  {
   "cell_type": "code",
   "execution_count": 176,
   "metadata": {},
   "outputs": [],
   "source": [
    "data = pd.read_csv(\"/home/pzs2/capstone/proj/risk/visualization/TCGA/data/genentech_processed.tsv\", sep=\"\\t\")\n",
    "clinical = pd.read_csv(\"./data/genentech_processed.labels.tsv\", sep=\"\\t\")\n",
    "event = clinical[['Event']].values.flatten()"
   ]
  },
  {
   "cell_type": "code",
   "execution_count": 167,
   "metadata": {},
   "outputs": [],
   "source": [
    "xfer_model = xfer_models[-2]"
   ]
  },
  {
   "cell_type": "code",
   "execution_count": 168,
   "metadata": {},
   "outputs": [],
   "source": [
    "xfer_model.pop()\n",
    "\n",
    "opt = Adam(lr=3e-5)\n",
    "\n",
    "xfer_model.compile(optimizer=opt, loss='binary_crossentropy', metrics=['accuracy'])"
   ]
  },
  {
   "cell_type": "code",
   "execution_count": 179,
   "metadata": {},
   "outputs": [
    {
     "name": "stdout",
     "output_type": "stream",
     "text": [
      "[t-SNE] Computing 91 nearest neighbors...\n",
      "[t-SNE] Indexed 348 samples in 0.000s...\n",
      "[t-SNE] Computed neighbors for 348 samples in 0.012s...\n",
      "[t-SNE] Computed conditional probabilities for sample 348 / 348\n",
      "[t-SNE] Mean sigma: 3.638194\n",
      "[t-SNE] KL divergence after 250 iterations with early exaggeration: 63.452713\n",
      "[t-SNE] KL divergence after 1700 iterations: 0.637347\n"
     ]
    },
    {
     "data": {
      "image/png": "[encoded data removed]",
      "text/plain": [
       "<Figure size 1080x720 with 1 Axes>"
      ]
     },
     "metadata": {},
     "output_type": "display_data"
    }
   ],
   "source": [
    "from matplotlib import pyplot as plt\n",
    "import seaborn as sns\n",
    "import time\n",
    "from sklearn.manifold import TSNE\n",
    "\n",
    "predictions_type = xfer_model.predict(data)\n",
    "\n",
    "tsne = TSNE(n_components=2, verbose=1, perplexity=30, n_iter=5000)\n",
    "tsne_results = tsne.fit_transform(predictions_type)\n",
    "\n",
    "plt.figure(figsize=(15, 10))\n",
    "for i, c, l in zip([0,1], colors, ['No Responder', 'Responder']):\n",
    "    plt.scatter(tsne_results[event == i, 0], tsne_results[event == i, 1], c=c, label=l)\n",
    "plt.legend()\n",
    "plt.show()"
   ]
  },
  {
   "cell_type": "code",
   "execution_count": null,
   "metadata": {},
   "outputs": [],
   "source": [
    "predictions_type[1:10,:]"
   ]
  },
  {
   "cell_type": "code",
   "execution_count": null,
   "metadata": {},
   "outputs": [],
   "source": [
    "plt.figure(figsize=(10, 10))\n",
    "for i, c in zip([0,1], colors):\n",
    "    plt.scatter(predictions_type[event == i, 0], predictions_type[event == i, 1], c=c, label=i)\n",
    "plt.legend()\n",
    "plt.show()"
   ]
  },
  {
   "cell_type": "code",
   "execution_count": null,
   "metadata": {},
   "outputs": [],
   "source": [
    "tsne_results2 = tsne_results"
   ]
  },
  {
   "cell_type": "code",
   "execution_count": null,
   "metadata": {},
   "outputs": [],
   "source": [
    "fig = plt.figure(figsize=(20, 16))\n",
    "# colors = 'r', 'g', 'b', 'c', 'm', 'y', 'k', 'w', 'orange', 'purple'\n",
    "for i, c in zip(cancer_categories, colors):\n",
    "    plt.scatter(tsne_results2[cancertypes == i, 0], tsne_results2[cancertypes == i, 1], c=c, label=i)\n",
    "plt.legend()\n",
    "plt.show()\n",
    "fig.savefig(\"tsne_cancertypes\")"
   ]
  },
  {
   "cell_type": "code",
   "execution_count": null,
   "metadata": {},
   "outputs": [],
   "source": [
    "tsne_results_pd = pd.DataFrame(tsne_results2)\n",
    "tsne_results_pd.to_csv(\"tsne_output.csv\")"
   ]
  },
  {
   "cell_type": "code",
   "execution_count": null,
   "metadata": {},
   "outputs": [],
   "source": []
  }
 ],
 "metadata": {
  "kernelspec": {
   "display_name": "Python 2",
   "language": "python",
   "name": "python2"
  },
  "language_info": {
   "codemirror_mode": {
    "name": "ipython",
    "version": 2
   },
   "file_extension": ".py",
   "mimetype": "text/x-python",
   "name": "python",
   "nbconvert_exporter": "python",
   "pygments_lexer": "ipython2",
   "version": "2.7.5"
  }
 },
 "nbformat": 4,
 "nbformat_minor": 2
}
